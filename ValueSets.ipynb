{
 "cells": [
  {
   "cell_type": "code",
   "execution_count": null,
   "id": "insured-cross",
   "metadata": {},
   "outputs": [],
   "source": [
    "import getpass\n",
    "import pandas as pd\n",
    "import requests"
   ]
  },
  {
   "cell_type": "code",
   "execution_count": null,
   "id": "dutch-delight",
   "metadata": {},
   "outputs": [],
   "source": [
    "username=input(\"NTS username: \")\n",
    "password = getpass.getpass(\"NTS password: \")"
   ]
  },
  {
   "cell_type": "code",
   "execution_count": null,
   "id": "progressive-excitement",
   "metadata": {},
   "outputs": [],
   "source": [
    "url = \"https://terminologieserver.nl/auth/realms/nictiz/protocol/openid-connect/token\"\n",
    "\n",
    "payload='username='+username+'&password='+password+'&grant_type=password&client_id=cli_client'\n",
    "headers = { 'Content-Type': 'application/x-www-form-urlencoded' }\n",
    "\n",
    "response = requests.request(\"POST\", url, headers=headers, data=payload)\n",
    "\n",
    "token = response.json()\n",
    "access_token = token[\"access_token\"]\n",
    "\n",
    "#print(access_token)"
   ]
  },
  {
   "cell_type": "code",
   "execution_count": null,
   "id": "burning-munich",
   "metadata": {},
   "outputs": [],
   "source": [
    "url = \"https://terminologieserver.nl/fhir/ValueSet/$expand?url=http://snomed.info/sct?fhir_vs=refset\"\n",
    "\n",
    "payload={}\n",
    "headers = { 'Authorization': 'Bearer ' + access_token }\n",
    "\n",
    "response = requests.request(\"GET\", url, headers=headers, data=payload)\n",
    "\n",
    "#print(response.text)"
   ]
  },
  {
   "cell_type": "code",
   "execution_count": null,
   "id": "developmental-interference",
   "metadata": {},
   "outputs": [],
   "source": [
    "data = response.json()\n",
    "\n",
    "for entry in data[\"expansion\"][\"contains\"]:\n",
    "    print(entry)"
   ]
  },
  {
   "cell_type": "code",
   "execution_count": null,
   "id": "facial-denver",
   "metadata": {},
   "outputs": [],
   "source": [
    "df = pd.DataFrame(data[\"expansion\"][\"contains\"])"
   ]
  },
  {
   "cell_type": "code",
   "execution_count": null,
   "id": "significant-muscle",
   "metadata": {},
   "outputs": [],
   "source": [
    "df = df[['code', 'display']]\n",
    "df.head(20)"
   ]
  },
  {
   "cell_type": "code",
   "execution_count": null,
   "id": "broke-treasure",
   "metadata": {},
   "outputs": [],
   "source": []
  }
 ],
 "metadata": {
  "kernelspec": {
   "display_name": "Python 3",
   "language": "python",
   "name": "python3"
  },
  "language_info": {
   "codemirror_mode": {
    "name": "ipython",
    "version": 3
   },
   "file_extension": ".py",
   "mimetype": "text/x-python",
   "name": "python",
   "nbconvert_exporter": "python",
   "pygments_lexer": "ipython3",
   "version": "3.8.8"
  }
 },
 "nbformat": 4,
 "nbformat_minor": 5
}
