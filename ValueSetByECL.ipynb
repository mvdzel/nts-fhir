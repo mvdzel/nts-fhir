{
  "nbformat": 4,
  "nbformat_minor": 5,
  "metadata": {
    "kernelspec": {
      "display_name": "Python 3",
      "language": "python",
      "name": "python3"
    },
    "language_info": {
      "codemirror_mode": {
        "name": "ipython",
        "version": 3
      },
      "file_extension": ".py",
      "mimetype": "text/x-python",
      "name": "python",
      "nbconvert_exporter": "python",
      "pygments_lexer": "ipython3",
      "version": "3.8.8"
    },
    "colab": {
      "name": "RefSet.ipynb",
      "provenance": []
    }
  },
  "cells": [
    {
      "cell_type": "code",
      "metadata": {
        "id": "final-israel",
        "outputId": "a799b205-7fdb-43bf-9c81-20d5d3836e52",
        "colab": {
          "base_uri": "https://localhost:8080/"
        }
      },
      "source": [
        "!pip install xlsxwriter"
      ],
      "id": "final-israel",
      "execution_count": 1,
      "outputs": [
        {
          "output_type": "stream",
          "text": [
            "Collecting xlsxwriter\n",
            "\u001b[?25l  Downloading https://files.pythonhosted.org/packages/6b/41/bf1aae04932d1eaffee1fc5f8b38ca47bbbf07d765129539bc4bcce1ce0c/XlsxWriter-1.3.7-py2.py3-none-any.whl (144kB)\n",
            "\r\u001b[K     |██▎                             | 10kB 14.9MB/s eta 0:00:01\r\u001b[K     |████▌                           | 20kB 17.4MB/s eta 0:00:01\r\u001b[K     |██████▉                         | 30kB 9.6MB/s eta 0:00:01\r\u001b[K     |█████████                       | 40kB 7.4MB/s eta 0:00:01\r\u001b[K     |███████████▎                    | 51kB 7.7MB/s eta 0:00:01\r\u001b[K     |█████████████▋                  | 61kB 6.9MB/s eta 0:00:01\r\u001b[K     |███████████████▉                | 71kB 7.3MB/s eta 0:00:01\r\u001b[K     |██████████████████▏             | 81kB 7.8MB/s eta 0:00:01\r\u001b[K     |████████████████████▍           | 92kB 7.8MB/s eta 0:00:01\r\u001b[K     |██████████████████████▋         | 102kB 7.4MB/s eta 0:00:01\r\u001b[K     |█████████████████████████       | 112kB 7.4MB/s eta 0:00:01\r\u001b[K     |███████████████████████████▏    | 122kB 7.4MB/s eta 0:00:01\r\u001b[K     |█████████████████████████████▌  | 133kB 7.4MB/s eta 0:00:01\r\u001b[K     |███████████████████████████████▊| 143kB 7.4MB/s eta 0:00:01\r\u001b[K     |████████████████████████████████| 153kB 7.4MB/s \n",
            "\u001b[?25hInstalling collected packages: xlsxwriter\n",
            "Successfully installed xlsxwriter-1.3.7\n"
          ],
          "name": "stdout"
        }
      ]
    },
    {
      "cell_type": "code",
      "metadata": {
        "id": "insured-cross"
      },
      "source": [
        "import getpass\n",
        "import requests\n",
        "import pandas as pd\n",
        "import xlsxwriter"
      ],
      "id": "insured-cross",
      "execution_count": 2,
      "outputs": []
    },
    {
      "cell_type": "code",
      "metadata": {
        "id": "floppy-medium",
        "outputId": "b0284e70-bc6d-4fe8-d3eb-2709e7f7b089",
        "colab": {
          "base_uri": "https://localhost:8080/"
        }
      },
      "source": [
        "username=input(\"NTS username: \")\n",
        "password = getpass.getpass(\"NTS password: \")"
      ],
      "id": "floppy-medium",
      "execution_count": 3,
      "outputs": [
        {
          "output_type": "stream",
          "text": [
            "NTS username: m.van.der.zel@umcg.nl\n",
            "NTS password: ··········\n"
          ],
          "name": "stdout"
        }
      ]
    },
    {
      "cell_type": "code",
      "metadata": {
        "id": "fitted-arrow"
      },
      "source": [
        "url = \"https://terminologieserver.nl/auth/realms/nictiz/protocol/openid-connect/token\"\n",
        "\n",
        "payload='username='+username+'&password='+password+'&grant_type=password&client_id=cli_client'\n",
        "headers = { 'Content-Type': 'application/x-www-form-urlencoded' }\n",
        "\n",
        "response = requests.request(\"POST\", url, headers=headers, data=payload)\n",
        "\n",
        "token = response.json()\n",
        "access_token = token[\"access_token\"]\n",
        "\n",
        "#print(access_token)"
      ],
      "id": "fitted-arrow",
      "execution_count": 4,
      "outputs": []
    },
    {
      "cell_type": "code",
      "metadata": {
        "id": "abstract-guide",
        "outputId": "8e04f96e-59e7-44b9-bd11-d973ec612f5a",
        "colab": {
          "base_uri": "https://localhost:8080/"
        }
      },
      "source": [
        "url = \"https://terminologieserver.nl/fhir/ValueSet/$expand?url=http://snomed.info/sct/15561000146104?fhir_vs=ecl/<362873000\"\n",
        "\n",
        "payload={}\n",
        "headers = { 'Authorization': 'Bearer ' + access_token }\n",
        "\n",
        "response = requests.request(\"GET\", url, headers=headers, data=payload)\n",
        "\n",
        "print(response.text)"
      ],
      "id": "abstract-guide",
      "execution_count": 7,
      "outputs": [
        {
          "output_type": "stream",
          "text": [
            "{\"resourceType\":\"ValueSet\",\"language\":\"en\",\"url\":\"http://snomed.info/sct/15561000146104/version/20200930?fhir_vs=ecl%2F%3C362873000\",\"name\":\"SNOMED CT ECL expression\",\"status\":\"active\",\"experimental\":false,\"copyright\":\"This value set includes content from SNOMED CT, which is copyright © 2002+ International Health Terminology Standards Development Organisation (IHTSDO), and distributed by agreement between IHTSDO and HL7. Implementer use of SNOMED CT is not covered by this agreement\",\"expansion\":{\"extension\":[{\"url\":\"http://hl7.org/fhir/StructureDefinition/valueset-unclosed\",\"valueBoolean\":true}],\"identifier\":\"572d5543-a8e8-49b7-aab8-56aca7e51dc0\",\"timestamp\":\"2021-03-24T08:46:44+01:00\",\"total\":51,\"offset\":0,\"parameter\":[{\"name\":\"version\",\"valueUri\":\"http://snomed.info/sct|http://snomed.info/sct/15561000146104/version/20200930\"},{\"name\":\"count\",\"valueInteger\":2147483647},{\"name\":\"offset\",\"valueInteger\":0}],\"contains\":[{\"system\":\"http://snomed.info/sct\",\"code\":\"362793004\",\"display\":\"Entire lower leg, from knee to ankle\"},{\"system\":\"http://snomed.info/sct\",\"code\":\"302553009\",\"display\":\"geheel abdomen\"},{\"system\":\"http://snomed.info/sct\",\"code\":\"302538001\",\"display\":\"gehele bovenarm\"},{\"system\":\"http://snomed.info/sct\",\"code\":\"302544002\",\"display\":\"gehele bovenbeen\"},{\"system\":\"http://snomed.info/sct\",\"code\":\"182245002\",\"display\":\"gehele bovenste extremiteit\"},{\"system\":\"http://snomed.info/sct\",\"code\":\"302540006\",\"display\":\"gehele digitus I van hand\"},{\"system\":\"http://snomed.info/sct\",\"code\":\"302546000\",\"display\":\"gehele digitus I van voet\"},{\"system\":\"http://snomed.info/sct\",\"code\":\"362758006\",\"display\":\"gehele digitus II van hand\"},{\"system\":\"http://snomed.info/sct\",\"code\":\"362817008\",\"display\":\"gehele digitus II van voet\"},{\"system\":\"http://snomed.info/sct\",\"code\":\"362763005\",\"display\":\"gehele digitus III van hand\"},{\"system\":\"http://snomed.info/sct\",\"code\":\"362821001\",\"display\":\"gehele digitus III van voet\"},{\"system\":\"http://snomed.info/sct\",\"code\":\"362768001\",\"display\":\"gehele digitus IV van hand\"},{\"system\":\"http://snomed.info/sct\",\"code\":\"362826006\",\"display\":\"gehele digitus IV van voet\"},{\"system\":\"http://snomed.info/sct\",\"code\":\"362773007\",\"display\":\"gehele digitus V van hand\"},{\"system\":\"http://snomed.info/sct\",\"code\":\"362830009\",\"display\":\"gehele digitus V van voet\"},{\"system\":\"http://snomed.info/sct\",\"code\":\"283992002\",\"display\":\"gehele digitus van hand\"},{\"system\":\"http://snomed.info/sct\",\"code\":\"361367007\",\"display\":\"gehele digitus van hand of voet\"},{\"system\":\"http://snomed.info/sct\",\"code\":\"302541005\",\"display\":\"gehele digitus van hand, exclusief digitus I\"},{\"system\":\"http://snomed.info/sct\",\"code\":\"773616001\",\"display\":\"gehele digitus van linker hand\"},{\"system\":\"http://snomed.info/sct\",\"code\":\"782385000\",\"display\":\"gehele digitus van linker voet\"},{\"system\":\"http://snomed.info/sct\",\"code\":\"773617005\",\"display\":\"gehele digitus van rechter hand\"},{\"system\":\"http://snomed.info/sct\",\"code\":\"782386004\",\"display\":\"gehele digitus van rechter voet\"},{\"system\":\"http://snomed.info/sct\",\"code\":\"302547009\",\"display\":\"gehele digitus van voet\"},{\"system\":\"http://snomed.info/sct\",\"code\":\"243996003\",\"display\":\"gehele extremiteit\"},{\"system\":\"http://snomed.info/sct\",\"code\":\"302550007\",\"display\":\"gehele hals\"},{\"system\":\"http://snomed.info/sct\",\"code\":\"302539009\",\"display\":\"gehele hand\"},{\"system\":\"http://snomed.info/sct\",\"code\":\"302548004\",\"display\":\"gehele hoofd\"},{\"system\":\"http://snomed.info/sct\",\"code\":\"72098002\",\"display\":\"gehele linker bovenarm\"},{\"system\":\"http://snomed.info/sct\",\"code\":\"209672000\",\"display\":\"gehele linker bovenbeen\"},{\"system\":\"http://snomed.info/sct\",\"code\":\"362729008\",\"display\":\"gehele linker bovenste extremiteit\"},{\"system\":\"http://snomed.info/sct\",\"code\":\"368456002\",\"display\":\"gehele linker hand\"},{\"system\":\"http://snomed.info/sct\",\"code\":\"368225008\",\"display\":\"gehele linker onderarm\"},{\"system\":\"http://snomed.info/sct\",\"code\":\"213384005\",\"display\":\"gehele linker onderbeen\"},{\"system\":\"http://snomed.info/sct\",\"code\":\"362785004\",\"display\":\"gehele linker onderste extremiteit\"},{\"system\":\"http://snomed.info/sct\",\"code\":\"362664006\",\"display\":\"gehele linker romp\"},{\"system\":\"http://snomed.info/sct\",\"code\":\"239919000\",\"display\":\"gehele linker voet\"},{\"system\":\"http://snomed.info/sct\",\"code\":\"182281004\",\"display\":\"gehele onderste extremiteit\"},{\"system\":\"http://snomed.info/sct\",\"code\":\"59126009\",\"display\":\"gehele rechter bovenarm\"},{\"system\":\"http://snomed.info/sct\",\"code\":\"209570001\",\"display\":\"gehele rechter bovenbeen\"},{\"system\":\"http://snomed.info/sct\",\"code\":\"362728000\",\"display\":\"gehele rechter bovenste extremiteit\"},{\"system\":\"http://snomed.info/sct\",\"code\":\"368455003\",\"display\":\"gehele rechter hand\"},{\"system\":\"http://snomed.info/sct\",\"code\":\"368224007\",\"display\":\"gehele rechter onderarm\"},{\"system\":\"http://snomed.info/sct\",\"code\":\"213289002\",\"display\":\"gehele rechter onderbeen\"},{\"system\":\"http://snomed.info/sct\",\"code\":\"362784000\",\"display\":\"gehele rechter onderste extremiteit\"},{\"system\":\"http://snomed.info/sct\",\"code\":\"239830003\",\"display\":\"gehele rechter voet\"},{\"system\":\"http://snomed.info/sct\",\"code\":\"362663000\",\"display\":\"gehele rechterzijde van romp\"},{\"system\":\"http://snomed.info/sct\",\"code\":\"262225004\",\"display\":\"gehele romp\"},{\"system\":\"http://snomed.info/sct\",\"code\":\"182308006\",\"display\":\"gehele teen van digitus van voet, exclusief digitus I\"},{\"system\":\"http://snomed.info/sct\",\"code\":\"302551006\",\"display\":\"gehele thorax\"},{\"system\":\"http://snomed.info/sct\",\"code\":\"302545001\",\"display\":\"gehele voet\"},{\"system\":\"http://snomed.info/sct\",\"code\":\"362741001\",\"display\":\"onderarm\"}]}}\n"
          ],
          "name": "stdout"
        }
      ]
    },
    {
      "cell_type": "code",
      "metadata": {
        "id": "developmental-interference",
        "outputId": "226b6b64-a850-433e-8f91-6b212ae103c2",
        "colab": {
          "base_uri": "https://localhost:8080/"
        }
      },
      "source": [
        "data = response.json()\n",
        "\n",
        "print (\"Number of concepts in this ValueSet: \", data[\"expansion\"][\"total\"])\n",
        "print ()\n",
        "\n",
        "for entry in data[\"expansion\"][\"contains\"]:\n",
        "    print(entry)"
      ],
      "id": "developmental-interference",
      "execution_count": 8,
      "outputs": [
        {
          "output_type": "stream",
          "text": [
            "Number of concepts in this ValueSet:  51\n",
            "\n",
            "{'system': 'http://snomed.info/sct', 'code': '362793004', 'display': 'Entire lower leg, from knee to ankle'}\n",
            "{'system': 'http://snomed.info/sct', 'code': '302553009', 'display': 'geheel abdomen'}\n",
            "{'system': 'http://snomed.info/sct', 'code': '302538001', 'display': 'gehele bovenarm'}\n",
            "{'system': 'http://snomed.info/sct', 'code': '302544002', 'display': 'gehele bovenbeen'}\n",
            "{'system': 'http://snomed.info/sct', 'code': '182245002', 'display': 'gehele bovenste extremiteit'}\n",
            "{'system': 'http://snomed.info/sct', 'code': '302540006', 'display': 'gehele digitus I van hand'}\n",
            "{'system': 'http://snomed.info/sct', 'code': '302546000', 'display': 'gehele digitus I van voet'}\n",
            "{'system': 'http://snomed.info/sct', 'code': '362758006', 'display': 'gehele digitus II van hand'}\n",
            "{'system': 'http://snomed.info/sct', 'code': '362817008', 'display': 'gehele digitus II van voet'}\n",
            "{'system': 'http://snomed.info/sct', 'code': '362763005', 'display': 'gehele digitus III van hand'}\n",
            "{'system': 'http://snomed.info/sct', 'code': '362821001', 'display': 'gehele digitus III van voet'}\n",
            "{'system': 'http://snomed.info/sct', 'code': '362768001', 'display': 'gehele digitus IV van hand'}\n",
            "{'system': 'http://snomed.info/sct', 'code': '362826006', 'display': 'gehele digitus IV van voet'}\n",
            "{'system': 'http://snomed.info/sct', 'code': '362773007', 'display': 'gehele digitus V van hand'}\n",
            "{'system': 'http://snomed.info/sct', 'code': '362830009', 'display': 'gehele digitus V van voet'}\n",
            "{'system': 'http://snomed.info/sct', 'code': '283992002', 'display': 'gehele digitus van hand'}\n",
            "{'system': 'http://snomed.info/sct', 'code': '361367007', 'display': 'gehele digitus van hand of voet'}\n",
            "{'system': 'http://snomed.info/sct', 'code': '302541005', 'display': 'gehele digitus van hand, exclusief digitus I'}\n",
            "{'system': 'http://snomed.info/sct', 'code': '773616001', 'display': 'gehele digitus van linker hand'}\n",
            "{'system': 'http://snomed.info/sct', 'code': '782385000', 'display': 'gehele digitus van linker voet'}\n",
            "{'system': 'http://snomed.info/sct', 'code': '773617005', 'display': 'gehele digitus van rechter hand'}\n",
            "{'system': 'http://snomed.info/sct', 'code': '782386004', 'display': 'gehele digitus van rechter voet'}\n",
            "{'system': 'http://snomed.info/sct', 'code': '302547009', 'display': 'gehele digitus van voet'}\n",
            "{'system': 'http://snomed.info/sct', 'code': '243996003', 'display': 'gehele extremiteit'}\n",
            "{'system': 'http://snomed.info/sct', 'code': '302550007', 'display': 'gehele hals'}\n",
            "{'system': 'http://snomed.info/sct', 'code': '302539009', 'display': 'gehele hand'}\n",
            "{'system': 'http://snomed.info/sct', 'code': '302548004', 'display': 'gehele hoofd'}\n",
            "{'system': 'http://snomed.info/sct', 'code': '72098002', 'display': 'gehele linker bovenarm'}\n",
            "{'system': 'http://snomed.info/sct', 'code': '209672000', 'display': 'gehele linker bovenbeen'}\n",
            "{'system': 'http://snomed.info/sct', 'code': '362729008', 'display': 'gehele linker bovenste extremiteit'}\n",
            "{'system': 'http://snomed.info/sct', 'code': '368456002', 'display': 'gehele linker hand'}\n",
            "{'system': 'http://snomed.info/sct', 'code': '368225008', 'display': 'gehele linker onderarm'}\n",
            "{'system': 'http://snomed.info/sct', 'code': '213384005', 'display': 'gehele linker onderbeen'}\n",
            "{'system': 'http://snomed.info/sct', 'code': '362785004', 'display': 'gehele linker onderste extremiteit'}\n",
            "{'system': 'http://snomed.info/sct', 'code': '362664006', 'display': 'gehele linker romp'}\n",
            "{'system': 'http://snomed.info/sct', 'code': '239919000', 'display': 'gehele linker voet'}\n",
            "{'system': 'http://snomed.info/sct', 'code': '182281004', 'display': 'gehele onderste extremiteit'}\n",
            "{'system': 'http://snomed.info/sct', 'code': '59126009', 'display': 'gehele rechter bovenarm'}\n",
            "{'system': 'http://snomed.info/sct', 'code': '209570001', 'display': 'gehele rechter bovenbeen'}\n",
            "{'system': 'http://snomed.info/sct', 'code': '362728000', 'display': 'gehele rechter bovenste extremiteit'}\n",
            "{'system': 'http://snomed.info/sct', 'code': '368455003', 'display': 'gehele rechter hand'}\n",
            "{'system': 'http://snomed.info/sct', 'code': '368224007', 'display': 'gehele rechter onderarm'}\n",
            "{'system': 'http://snomed.info/sct', 'code': '213289002', 'display': 'gehele rechter onderbeen'}\n",
            "{'system': 'http://snomed.info/sct', 'code': '362784000', 'display': 'gehele rechter onderste extremiteit'}\n",
            "{'system': 'http://snomed.info/sct', 'code': '239830003', 'display': 'gehele rechter voet'}\n",
            "{'system': 'http://snomed.info/sct', 'code': '362663000', 'display': 'gehele rechterzijde van romp'}\n",
            "{'system': 'http://snomed.info/sct', 'code': '262225004', 'display': 'gehele romp'}\n",
            "{'system': 'http://snomed.info/sct', 'code': '182308006', 'display': 'gehele teen van digitus van voet, exclusief digitus I'}\n",
            "{'system': 'http://snomed.info/sct', 'code': '302551006', 'display': 'gehele thorax'}\n",
            "{'system': 'http://snomed.info/sct', 'code': '302545001', 'display': 'gehele voet'}\n",
            "{'system': 'http://snomed.info/sct', 'code': '362741001', 'display': 'onderarm'}\n"
          ],
          "name": "stdout"
        }
      ]
    },
    {
      "cell_type": "code",
      "metadata": {
        "id": "significant-muscle",
        "outputId": "5cc54024-f0b9-4648-8760-2cb00658b83a",
        "colab": {
          "base_uri": "https://localhost:8080/",
          "height": 678
        }
      },
      "source": [
        "df = pd.DataFrame(data[\"expansion\"][\"contains\"])\n",
        "df = df[['code', 'display']]\n",
        "print (\"Concepts in Refset:\", df.size)\n",
        "df.head(20)"
      ],
      "id": "significant-muscle",
      "execution_count": 9,
      "outputs": [
        {
          "output_type": "stream",
          "text": [
            "Concepts in Refset: 102\n"
          ],
          "name": "stdout"
        },
        {
          "output_type": "execute_result",
          "data": {
            "text/html": [
              "<div>\n",
              "<style scoped>\n",
              "    .dataframe tbody tr th:only-of-type {\n",
              "        vertical-align: middle;\n",
              "    }\n",
              "\n",
              "    .dataframe tbody tr th {\n",
              "        vertical-align: top;\n",
              "    }\n",
              "\n",
              "    .dataframe thead th {\n",
              "        text-align: right;\n",
              "    }\n",
              "</style>\n",
              "<table border=\"1\" class=\"dataframe\">\n",
              "  <thead>\n",
              "    <tr style=\"text-align: right;\">\n",
              "      <th></th>\n",
              "      <th>code</th>\n",
              "      <th>display</th>\n",
              "    </tr>\n",
              "  </thead>\n",
              "  <tbody>\n",
              "    <tr>\n",
              "      <th>0</th>\n",
              "      <td>362793004</td>\n",
              "      <td>Entire lower leg, from knee to ankle</td>\n",
              "    </tr>\n",
              "    <tr>\n",
              "      <th>1</th>\n",
              "      <td>302553009</td>\n",
              "      <td>geheel abdomen</td>\n",
              "    </tr>\n",
              "    <tr>\n",
              "      <th>2</th>\n",
              "      <td>302538001</td>\n",
              "      <td>gehele bovenarm</td>\n",
              "    </tr>\n",
              "    <tr>\n",
              "      <th>3</th>\n",
              "      <td>302544002</td>\n",
              "      <td>gehele bovenbeen</td>\n",
              "    </tr>\n",
              "    <tr>\n",
              "      <th>4</th>\n",
              "      <td>182245002</td>\n",
              "      <td>gehele bovenste extremiteit</td>\n",
              "    </tr>\n",
              "    <tr>\n",
              "      <th>5</th>\n",
              "      <td>302540006</td>\n",
              "      <td>gehele digitus I van hand</td>\n",
              "    </tr>\n",
              "    <tr>\n",
              "      <th>6</th>\n",
              "      <td>302546000</td>\n",
              "      <td>gehele digitus I van voet</td>\n",
              "    </tr>\n",
              "    <tr>\n",
              "      <th>7</th>\n",
              "      <td>362758006</td>\n",
              "      <td>gehele digitus II van hand</td>\n",
              "    </tr>\n",
              "    <tr>\n",
              "      <th>8</th>\n",
              "      <td>362817008</td>\n",
              "      <td>gehele digitus II van voet</td>\n",
              "    </tr>\n",
              "    <tr>\n",
              "      <th>9</th>\n",
              "      <td>362763005</td>\n",
              "      <td>gehele digitus III van hand</td>\n",
              "    </tr>\n",
              "    <tr>\n",
              "      <th>10</th>\n",
              "      <td>362821001</td>\n",
              "      <td>gehele digitus III van voet</td>\n",
              "    </tr>\n",
              "    <tr>\n",
              "      <th>11</th>\n",
              "      <td>362768001</td>\n",
              "      <td>gehele digitus IV van hand</td>\n",
              "    </tr>\n",
              "    <tr>\n",
              "      <th>12</th>\n",
              "      <td>362826006</td>\n",
              "      <td>gehele digitus IV van voet</td>\n",
              "    </tr>\n",
              "    <tr>\n",
              "      <th>13</th>\n",
              "      <td>362773007</td>\n",
              "      <td>gehele digitus V van hand</td>\n",
              "    </tr>\n",
              "    <tr>\n",
              "      <th>14</th>\n",
              "      <td>362830009</td>\n",
              "      <td>gehele digitus V van voet</td>\n",
              "    </tr>\n",
              "    <tr>\n",
              "      <th>15</th>\n",
              "      <td>283992002</td>\n",
              "      <td>gehele digitus van hand</td>\n",
              "    </tr>\n",
              "    <tr>\n",
              "      <th>16</th>\n",
              "      <td>361367007</td>\n",
              "      <td>gehele digitus van hand of voet</td>\n",
              "    </tr>\n",
              "    <tr>\n",
              "      <th>17</th>\n",
              "      <td>302541005</td>\n",
              "      <td>gehele digitus van hand, exclusief digitus I</td>\n",
              "    </tr>\n",
              "    <tr>\n",
              "      <th>18</th>\n",
              "      <td>773616001</td>\n",
              "      <td>gehele digitus van linker hand</td>\n",
              "    </tr>\n",
              "    <tr>\n",
              "      <th>19</th>\n",
              "      <td>782385000</td>\n",
              "      <td>gehele digitus van linker voet</td>\n",
              "    </tr>\n",
              "  </tbody>\n",
              "</table>\n",
              "</div>"
            ],
            "text/plain": [
              "         code                                       display\n",
              "0   362793004          Entire lower leg, from knee to ankle\n",
              "1   302553009                                geheel abdomen\n",
              "2   302538001                               gehele bovenarm\n",
              "3   302544002                              gehele bovenbeen\n",
              "4   182245002                   gehele bovenste extremiteit\n",
              "5   302540006                     gehele digitus I van hand\n",
              "6   302546000                     gehele digitus I van voet\n",
              "7   362758006                    gehele digitus II van hand\n",
              "8   362817008                    gehele digitus II van voet\n",
              "9   362763005                   gehele digitus III van hand\n",
              "10  362821001                   gehele digitus III van voet\n",
              "11  362768001                    gehele digitus IV van hand\n",
              "12  362826006                    gehele digitus IV van voet\n",
              "13  362773007                     gehele digitus V van hand\n",
              "14  362830009                     gehele digitus V van voet\n",
              "15  283992002                       gehele digitus van hand\n",
              "16  361367007               gehele digitus van hand of voet\n",
              "17  302541005  gehele digitus van hand, exclusief digitus I\n",
              "18  773616001                gehele digitus van linker hand\n",
              "19  782385000                gehele digitus van linker voet"
            ]
          },
          "metadata": {
            "tags": []
          },
          "execution_count": 9
        }
      ]
    },
    {
      "cell_type": "code",
      "metadata": {
        "id": "broke-treasure"
      },
      "source": [
        "writer = pd.ExcelWriter('valueset.xlsx')\n",
        "df.to_excel(writer)\n",
        "writer.save()"
      ],
      "id": "broke-treasure",
      "execution_count": 10,
      "outputs": []
    }
  ]
}