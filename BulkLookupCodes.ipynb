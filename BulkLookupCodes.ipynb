{
 "cells": [
  {
   "cell_type": "code",
   "execution_count": 1,
   "id": "caroline-environment",
   "metadata": {},
   "outputs": [],
   "source": [
    "import getpass\n",
    "import pandas as pd\n",
    "import requests\n",
    "import json"
   ]
  },
  {
   "cell_type": "markdown",
   "id": "technological-maker",
   "metadata": {},
   "source": [
    "Bouw de $lookup Bundle adhv input spreadsheet met codes+system"
   ]
  },
  {
   "cell_type": "code",
   "execution_count": 4,
   "id": "smoking-eugene",
   "metadata": {},
   "outputs": [],
   "source": [
    "df = pd.read_excel(\"codelijsten.xls\", \"Blad2\")\n"
   ]
  },
  {
   "cell_type": "code",
   "execution_count": 47,
   "id": "foster-logic",
   "metadata": {},
   "outputs": [
    {
     "name": "stdout",
     "output_type": "stream",
     "text": [
      "{\"type\": \"batch\", \"resourceType\": \"Bundle\", \"entry\": [{\"resource\": {\"parameter\": [{\"name\": \"system\", \"valueUri\": \"http://snomed.info/sct\"}, {\"name\": \"code\", \"valueCode\": 419511003}], \"resourceType\": \"Parameters\"}, \"request\": {\"method\": \"POST\", \"url\": \"CodeSystem/$lookup\"}}, {\"resource\": {\"parameter\": [{\"name\": \"system\", \"valueUri\": \"http://snomed.info/sct\"}, {\"name\": \"code\", \"valueCode\": 418471000}], \"resourceType\": \"Parameters\"}, \"request\": {\"method\": \"POST\", \"url\": \"CodeSystem/$lookup\"}}, {\"resource\": {\"parameter\": [{\"name\": \"system\", \"valueUri\": \"http://snomed.info/sct\"}, {\"name\": \"code\", \"valueCode\": 426232007}], \"resourceType\": \"Parameters\"}, \"request\": {\"method\": \"POST\", \"url\": \"CodeSystem/$lookup\"}}, {\"resource\": {\"parameter\": [{\"name\": \"system\", \"valueUri\": \"http://snomed.info/sct\"}, {\"name\": \"code\", \"valueCode\": 419199007}], \"resourceType\": \"Parameters\"}, \"request\": {\"method\": \"POST\", \"url\": \"CodeSystem/$lookup\"}}, {\"resource\": {\"parameter\": [{\"name\": \"system\", \"valueUri\": \"http://loinc.org\"}, {\"name\": \"code\", \"valueCode\": \"789-8\"}], \"resourceType\": \"Parameters\"}, \"request\": {\"method\": \"POST\", \"url\": \"CodeSystem/$lookup\"}}, {\"resource\": {\"parameter\": [{\"name\": \"system\", \"valueUri\": \"http://loinc.org\"}, {\"name\": \"code\", \"valueCode\": \"2951-2\"}], \"resourceType\": \"Parameters\"}, \"request\": {\"method\": \"POST\", \"url\": \"CodeSystem/$lookup\"}}, {\"resource\": {\"parameter\": [{\"name\": \"system\", \"valueUri\": \"http://loinc.org\"}, {\"name\": \"code\", \"valueCode\": \"26881-3\"}], \"resourceType\": \"Parameters\"}, \"request\": {\"method\": \"POST\", \"url\": \"CodeSystem/$lookup\"}}, {\"resource\": {\"parameter\": [{\"name\": \"system\", \"valueUri\": \"http://loinc.org\"}, {\"name\": \"code\", \"valueCode\": \"74103-3\"}], \"resourceType\": \"Parameters\"}, \"request\": {\"method\": \"POST\", \"url\": \"CodeSystem/$lookup\"}}, {\"resource\": {\"parameter\": [{\"name\": \"system\", \"valueUri\": \"http://loinc.org\"}, {\"name\": \"code\", \"valueCode\": \"62357-9\"}], \"resourceType\": \"Parameters\"}, \"request\": {\"method\": \"POST\", \"url\": \"CodeSystem/$lookup\"}}, {\"resource\": {\"parameter\": [{\"name\": \"system\", \"valueUri\": \"http://loinc.org\"}, {\"name\": \"code\", \"valueCode\": \"32637-1\"}], \"resourceType\": \"Parameters\"}, \"request\": {\"method\": \"POST\", \"url\": \"CodeSystem/$lookup\"}}]}\n"
     ]
    }
   ],
   "source": [
    "payload = {\n",
    "   \"type\" : \"batch\",\n",
    "   \"resourceType\" : \"Bundle\",\n",
    "   \"entry\" : [\n",
    "   ]\n",
    "}\n",
    "\n",
    "done = []\n",
    "for row in df.iterrows():\n",
    "    # row[1] is a Panda Series, convert to a list array\n",
    "    _cells = row[1].to_list()\n",
    "    _code = _cells[1]\n",
    "    _system = _cells[2]\n",
    "    # only do if not already done\n",
    "    if (not(_code in done)):\n",
    "        done.append(_code)\n",
    "        entry = {\n",
    "             \"resource\" : {\n",
    "                \"parameter\" : [\n",
    "                   {\n",
    "                      \"name\" : \"system\",\n",
    "                      \"valueUri\" : _system\n",
    "                   },\n",
    "                   {\n",
    "                      \"name\" : \"code\",\n",
    "                      \"valueCode\" : _code\n",
    "                   }\n",
    "                ],\n",
    "                \"resourceType\" : \"Parameters\"\n",
    "             },\n",
    "             \"request\" : {\n",
    "                \"method\" : \"POST\",\n",
    "                \"url\" : \"CodeSystem/$lookup\"\n",
    "             }\n",
    "          }\n",
    "        payload[\"entry\"].append(entry)\n",
    "        \n",
    "print (json.dumps(payload))"
   ]
  },
  {
   "cell_type": "markdown",
   "id": "optional-intermediate",
   "metadata": {},
   "source": [
    "Gebruik nu de NTS om de $lookup Bundle uit te voeren"
   ]
  },
  {
   "cell_type": "code",
   "execution_count": 20,
   "id": "animated-evolution",
   "metadata": {},
   "outputs": [
    {
     "name": "stdout",
     "output_type": "stream",
     "text": [
      "NTS username: m.van.der.zel@umcg.nl\n",
      "NTS password: ········\n"
     ]
    }
   ],
   "source": [
    "username=input(\"NTS username: \")\n",
    "password = getpass.getpass(\"NTS password: \")"
   ]
  },
  {
   "cell_type": "code",
   "execution_count": 38,
   "id": "sustainable-yemen",
   "metadata": {},
   "outputs": [],
   "source": [
    "url = \"https://terminologieserver.nl/auth/realms/nictiz/protocol/openid-connect/token\"\n",
    "\n",
    "apayload='username='+username+'&password='+password+'&grant_type=password&client_id=cli_client'\n",
    "headers = { 'Content-Type': 'application/x-www-form-urlencoded' }\n",
    "\n",
    "response = requests.request(\"POST\", url, headers=headers, data=apayload)\n",
    "\n",
    "token = response.json()\n",
    "access_token = token[\"access_token\"]"
   ]
  },
  {
   "cell_type": "code",
   "execution_count": 48,
   "id": "olympic-texture",
   "metadata": {
    "scrolled": false
   },
   "outputs": [
    {
     "name": "stdout",
     "output_type": "stream",
     "text": [
      "{\"resourceType\":\"Bundle\",\"id\":\"36c2c5ce-70d3-4aa3-bfbc-24f4819a47f8\",\"type\":\"batch-response\",\"link\":[{\"relation\":\"self\",\"url\":\"https://terminologieserver.nl/fhir\"}],\"entry\":[{\"resource\":{\"resourceType\":\"Parameters\",\"parameter\":[{\"name\":\"name\",\"valueString\":\"module van Nederlandse editie\"},{\"name\":\"version\",\"valueString\":\"http://snomed.info/sct/11000146104/version/20210930\"},{\"name\":\"display\",\"valueString\":\"neiging tot ongewenste reactie op medicatie en/of drug\"},{\"name\":\"property\",\"part\":[{\"name\":\"code\",\"valueCode\":\"parent\"},{\"name\":\"value\",\"valueCode\":\"418038007\"}]},{\"name\":\"property\",\"part\":[{\"name\":\"code\",\"valueCode\":\"child\"},{\"name\":\"value\",\"valueCode\":\"419869001\"}]},{\"name\":\"property\",\"part\":[{\"name\":\"code\",\"valueCode\":\"child\"},{\"name\":\"value\",\"valueCode\":\"418895007\"}]},{\"name\":\"property\",\"part\":[{\"name\":\"code\",\"valueCode\":\"child\"},{\"name\":\"value\",\"valueCode\":\"1078301000112109\"}]},{\"name\":\"property\",\"part\":[{\"name\":\"code\",\"valueCode\":\"child\"},{\"name\":\"value\",\"valueCode\":\"419787005\"}]},{\"name\":\"property\",\"part\":[{\"name\":\"code\",\"valueCode\":\"child\"},{\"name\":\"value\",\"valueCode\":\"419522004\"}]},{\"name\":\"property\",\"part\":[{\"name\":\"code\",\"valueCode\":\"child\"},{\"name\":\"value\",\"valueCode\":\"418744004\"}]},{\"name\":\"property\",\"part\":[{\"name\":\"code\",\"valueCode\":\"child\"},{\"name\":\"value\",\"valueCode\":\"59037007\"}]},{\"name\":\"property\",\"part\":[{\"name\":\"code\",\"valueCode\":\"child\"},{\"name\":\"value\",\"valueCode\":\"418059000\"}]},{\"name\":\"property\",\"part\":[{\"name\":\"code\",\"valueCode\":\"child\"},{\"name\":\"value\",\"valueCode\":\"609398007\"}]},{\"name\":\"property\",\"part\":[{\"name\":\"code\",\"valueCode\":\"child\"},{\"name\":\"value\",\"valueCode\":\"418174000\"}]},{\"name\":\"property\",\"part\":[{\"name\":\"code\",\"valueCode\":\"child\"},{\"name\":\"value\",\"valueCode\":\"416098002\"}]},{\"name\":\"property\",\"part\":[{\"name\":\"code\",\"valueCode\":\"sufficientlyDefined\"},{\"name\":\"valueBoolean\",\"valueBoolean\":true}]},{\"name\":\"property\",\"part\":[{\"name\":\"code\",\"valueCode\":\"effectiveTime\"},{\"name\":\"valueString\",\"valueString\":\"20060131\"}]},{\"name\":\"property\",\"part\":[{\"name\":\"code\",\"valueCode\":\"moduleId\"},{\"name\":\"value\",\"valueCode\":\"900000000000207008\"}]},{\"name\":\"designation\",\"part\":[{\"name\":\"language\",\"valueCode\":\"en\"},{\"name\":\"use\",\"valueCoding\":{\"system\":\"http://snomed.info/sct\",\"code\":\"900000000000013009\",\"display\":\"Synonym\"}},{\"name\":\"value\",\"valueString\":\"Drug sensitivity\"}]},{\"name\":\"designation\",\"part\":[{\"name\":\"language\",\"valueCode\":\"en-x-sctlang-90000000-00005090-07\"},{\"name\":\"use\",\"valueCoding\":{\"system\":\"http://terminology.hl7.org/CodeSystem/hl7TermMaintInfra\",\"code\":\"preferredForLanguage\",\"display\":\"Preferred For Language\"}},{\"name\":\"value\",\"valueString\":\"Propensity to adverse reactions to drug\"}]},{\"name\":\"designation\",\"part\":[{\"name\":\"language\",\"valueCode\":\"en-x-sctlang-90000000-00005080-04\"},{\"name\":\"use\",\"valueCoding\":{\"system\":\"http://terminology.hl7.org/CodeSystem/hl7TermMaintInfra\",\"code\":\"preferredForLanguage\",\"display\":\"Preferred For Language\"}},{\"name\":\"value\",\"valueString\":\"Propensity to adverse reactions to drug\"}]},{\"name\":\"designation\",\"part\":[{\"name\":\"language\",\"valueCode\":\"en\"},{\"name\":\"use\",\"valueCoding\":{\"system\":\"http://snomed.info/sct\",\"code\":\"900000000000003001\",\"display\":\"Fully specified name\"}},{\"name\":\"value\",\"valueString\":\"Propensity to adverse reactions to drug (finding)\"}]},{\"name\":\"designation\",\"part\":[{\"name\":\"language\",\"valueCode\":\"nl\"},{\"name\":\"use\",\"valueCoding\":{\"system\":\"http://snomed.info/sct\",\"code\":\"900000000000013009\",\"display\":\"Synonym\"}},{\"name\":\"value\",\"valueString\":\"medicatie-overgevoeligheid\"}]},{\"name\":\"designation\",\"part\":[{\"name\":\"language\",\"valueCode\":\"nl\"},{\"name\":\"use\",\"valueCoding\":{\"system\":\"http://snomed.info/sct\",\"code\":\"900000000000013009\",\"display\":\"Synonym\"}},{\"name\":\"value\",\"valueString\":\"neiging tot 'adverse reaction' op medicatie en/of drugs\"}]},{\"name\":\"designation\",\"part\":[{\"name\":\"language\",\"valueCode\":\"nl\"},{\"name\":\"use\",\"valueCoding\":{\"system\":\"http://snomed.info/sct\",\"code\":\"900000000000013009\",\"display\":\"Synonym\"}},{\"name\":\"value\",\"valueString\":\"neiging tot medicatiegeïnduceerde bijwerking\"}]},{\"name\":\"designation\",\"part\":[{\"name\":\"language\",\"valueCode\":\"nl-x-sctlang-31000146-106\"},{\"name\":\"use\",\"valueCoding\":{\"system\":\"http://terminology.hl7.org/CodeSystem/hl7TermMaintInfra\",\"code\":\"preferredForLanguage\",\"display\":\"Preferred For Language\"}},{\"name\":\"value\",\"valueString\":\"neiging tot ongewenste reactie op medicatie en/of drug\"}]},{\"name\":\"designation\",\"part\":[{\"name\":\"language\",\"valueCode\":\"en\"},{\"name\":\"use\",\"valueCoding\":{\"system\":\"http://terminology.hl7.org/CodeSystem/designation-usage\",\"code\":\"display\"}},{\"name\":\"value\",\"valueString\":\"neiging tot ongewenste reactie op medicatie en/of drug\"}]},{\"name\":\"designation\",\"part\":[{\"name\":\"language\",\"valueCode\":\"nl\"},{\"name\":\"use\",\"valueCoding\":{\"system\":\"http://snomed.info/sct\",\"code\":\"900000000000003001\",\"display\":\"Fully specified name\"}},{\"name\":\"value\",\"valueString\":\"neiging tot ongewenste reactie op medicatie en/of drug (bevinding)\"}]}]},\"response\":{\"status\":\"200\"}},{\"resource\":{\"resourceType\":\"Parameters\",\"parameter\":[{\"name\":\"name\",\"valueString\":\"module van Nederlandse editie\"},{\"name\":\"version\",\"valueString\":\"http://snomed.info/sct/11000146104/version/20210930\"},{\"name\":\"display\",\"valueString\":\"neiging tot ongewenste reactie op voedsel\"},{\"name\":\"property\",\"part\":[{\"name\":\"code\",\"valueCode\":\"parent\"},{\"name\":\"value\",\"valueCode\":\"418038007\"}]},{\"name\":\"property\",\"part\":[{\"name\":\"code\",\"valueCode\":\"child\"},{\"name\":\"value\",\"valueCode\":\"609548005\"}]},{\"name\":\"property\",\"part\":[{\"name\":\"code\",\"valueCode\":\"child\"},{\"name\":\"value\",\"valueCode\":\"39641000146106\"}]},{\"name\":\"property\",\"part\":[{\"name\":\"code\",\"valueCode\":\"child\"},{\"name\":\"value\",\"valueCode\":\"235719002\"}]},{\"name\":\"property\",\"part\":[{\"name\":\"code\",\"valueCode\":\"child\"},{\"name\":\"value\",\"valueCode\":\"441831003\"}]},{\"name\":\"property\",\"part\":[{\"name\":\"code\",\"valueCode\":\"child\"},{\"name\":\"value\",\"valueCode\":\"414285001\"}]},{\"name\":\"property\",\"part\":[{\"name\":\"code\",\"valueCode\":\"sufficientlyDefined\"},{\"name\":\"valueBoolean\",\"valueBoolean\":true}]},{\"name\":\"property\",\"part\":[{\"name\":\"code\",\"valueCode\":\"effectiveTime\"},{\"name\":\"valueString\",\"valueString\":\"20060131\"}]},{\"name\":\"property\",\"part\":[{\"name\":\"code\",\"valueCode\":\"moduleId\"},{\"name\":\"value\",\"valueCode\":\"900000000000207008\"}]},{\"name\":\"designation\",\"part\":[{\"name\":\"language\",\"valueCode\":\"en\"},{\"name\":\"use\",\"valueCoding\":{\"system\":\"http://snomed.info/sct\",\"code\":\"900000000000013009\",\"display\":\"Synonym\"}},{\"name\":\"value\",\"valueString\":\"Food sensitivity\"}]},{\"name\":\"designation\",\"part\":[{\"name\":\"language\",\"valueCode\":\"en-x-sctlang-90000000-00005080-04\"},{\"name\":\"use\",\"valueCoding\":{\"system\":\"http://terminology.hl7.org/CodeSystem/hl7TermMaintInfra\",\"code\":\"preferredForLanguage\",\"display\":\"Preferred For Language\"}},{\"name\":\"value\",\"valueString\":\"Propensity to adverse reactions to food\"}]},{\"name\":\"designation\",\"part\":[{\"name\":\"language\",\"valueCode\":\"en-x-sctlang-90000000-00005090-07\"},{\"name\":\"use\",\"valueCoding\":{\"system\":\"http://terminology.hl7.org/CodeSystem/hl7TermMaintInfra\",\"code\":\"preferredForLanguage\",\"display\":\"Preferred For Language\"}},{\"name\":\"value\",\"valueString\":\"Propensity to adverse reactions to food\"}]},{\"name\":\"designation\",\"part\":[{\"name\":\"language\",\"valueCode\":\"en\"},{\"name\":\"use\",\"valueCoding\":{\"system\":\"http://snomed.info/sct\",\"code\":\"900000000000003001\",\"display\":\"Fully specified name\"}},{\"name\":\"value\",\"valueString\":\"Propensity to adverse reactions to food (finding)\"}]},{\"name\":\"designation\",\"part\":[{\"name\":\"language\",\"valueCode\":\"en\"},{\"name\":\"use\",\"valueCoding\":{\"system\":\"http://terminology.hl7.org/CodeSystem/designation-usage\",\"code\":\"display\"}},{\"name\":\"value\",\"valueString\":\"neiging tot ongewenste reactie op voedsel\"}]},{\"name\":\"designation\",\"part\":[{\"name\":\"language\",\"valueCode\":\"nl-x-sctlang-31000146-106\"},{\"name\":\"use\",\"valueCoding\":{\"system\":\"http://terminology.hl7.org/CodeSystem/hl7TermMaintInfra\",\"code\":\"preferredForLanguage\",\"display\":\"Preferred For Language\"}},{\"name\":\"value\",\"valueString\":\"neiging tot ongewenste reactie op voedsel\"}]},{\"name\":\"designation\",\"part\":[{\"name\":\"language\",\"valueCode\":\"nl\"},{\"name\":\"use\",\"valueCoding\":{\"system\":\"http://snomed.info/sct\",\"code\":\"900000000000003001\",\"display\":\"Fully specified name\"}},{\"name\":\"value\",\"valueString\":\"neiging tot ongewenste reactie op voedsel (bevinding)\"}]},{\"name\":\"designation\",\"part\":[{\"name\":\"language\",\"valueCode\":\"nl\"},{\"name\":\"use\",\"valueCoding\":{\"system\":\"http://snomed.info/sct\",\"code\":\"900000000000013009\",\"display\":\"Synonym\"}},{\"name\":\"value\",\"valueString\":\"overgevoeligheid voor voedsel\"}]}]},\"response\":{\"status\":\"200\"}},{\"resource\":{\"resourceType\":\"Parameters\",\"parameter\":[{\"name\":\"name\",\"valueString\":\"module van Nederlandse editie\"},{\"name\":\"version\",\"valueString\":\"http://snomed.info/sct/11000146104/version/20210930\"},{\"name\":\"display\",\"valueString\":\"omgevingsgerelateerde allergie\"},{\"name\":\"property\",\"part\":[{\"name\":\"code\",\"valueCode\":\"parent\"},{\"name\":\"value\",\"valueCode\":\"609328004\"}]},{\"name\":\"property\",\"part\":[{\"name\":\"code\",\"valueCode\":\"sufficientlyDefined\"},{\"name\":\"valueBoolean\",\"valueBoolean\":false}]},{\"name\":\"property\",\"part\":[{\"name\":\"code\",\"valueCode\":\"effectiveTime\"},{\"name\":\"valueString\",\"valueString\":\"20070731\"}]},{\"name\":\"property\",\"part\":[{\"name\":\"code\",\"valueCode\":\"moduleId\"},{\"name\":\"value\",\"valueCode\":\"900000000000207008\"}]},{\"name\":\"designation\",\"part\":[{\"name\":\"language\",\"valueCode\":\"en-x-sctlang-90000000-00005090-07\"},{\"name\":\"use\",\"valueCoding\":{\"system\":\"http://terminology.hl7.org/CodeSystem/hl7TermMaintInfra\",\"code\":\"preferredForLanguage\",\"display\":\"Preferred For Language\"}},{\"name\":\"value\",\"valueString\":\"Environmental allergy\"}]},{\"name\":\"designation\",\"part\":[{\"name\":\"language\",\"valueCode\":\"en-x-sctlang-90000000-00005080-04\"},{\"name\":\"use\",\"valueCoding\":{\"system\":\"http://terminology.hl7.org/CodeSystem/hl7TermMaintInfra\",\"code\":\"preferredForLanguage\",\"display\":\"Preferred For Language\"}},{\"name\":\"value\",\"valueString\":\"Environmental allergy\"}]},{\"name\":\"designation\",\"part\":[{\"name\":\"language\",\"valueCode\":\"en\"},{\"name\":\"use\",\"valueCoding\":{\"system\":\"http://snomed.info/sct\",\"code\":\"900000000000003001\",\"display\":\"Fully specified name\"}},{\"name\":\"value\",\"valueString\":\"Environmental allergy (finding)\"}]},{\"name\":\"designation\",\"part\":[{\"name\":\"language\",\"valueCode\":\"en\"},{\"name\":\"use\",\"valueCoding\":{\"system\":\"http://terminology.hl7.org/CodeSystem/designation-usage\",\"code\":\"display\"}},{\"name\":\"value\",\"valueString\":\"omgevingsgerelateerde allergie\"}]},{\"name\":\"designation\",\"part\":[{\"name\":\"language\",\"valueCode\":\"nl-x-sctlang-31000146-106\"},{\"name\":\"use\",\"valueCoding\":{\"system\":\"http://terminology.hl7.org/CodeSystem/hl7TermMaintInfra\",\"code\":\"preferredForLanguage\",\"display\":\"Preferred For Language\"}},{\"name\":\"value\",\"valueString\":\"omgevingsgerelateerde allergie\"}]},{\"name\":\"designation\",\"part\":[{\"name\":\"language\",\"valueCode\":\"nl\"},{\"name\":\"use\",\"valueCoding\":{\"system\":\"http://snomed.info/sct\",\"code\":\"900000000000003001\",\"display\":\"Fully specified name\"}},{\"name\":\"value\",\"valueString\":\"omgevingsgerelateerde allergie (bevinding)\"}]}]},\"response\":{\"status\":\"200\"}},{\"resource\":{\"resourceType\":\"Parameters\",\"parameter\":[{\"name\":\"name\",\"valueString\":\"module van Nederlandse editie\"},{\"name\":\"version\",\"valueString\":\"http://snomed.info/sct/11000146104/version/20210930\"},{\"name\":\"display\",\"valueString\":\"allergie voor substantie\"},{\"name\":\"property\",\"part\":[{\"name\":\"code\",\"valueCode\":\"parent\"},{\"name\":\"value\",\"valueCode\":\"418038007\"}]},{\"name\":\"property\",\"part\":[{\"name\":\"code\",\"valueCode\":\"parent\"},{\"name\":\"value\",\"valueCode\":\"609328004\"}]},{\"name\":\"property\",\"part\":[{\"name\":\"code\",\"valueCode\":\"child\"},{\"name\":\"value\",\"valueCode\":\"294120009\"}]},{\"name\":\"property\",\"part\":[{\"name\":\"code\",\"valueCode\":\"child\"},{\"name\":\"value\",\"valueCode\":\"764442003\"}]},{\"name\":\"property\",\"part\":[{\"name\":\"code\",\"valueCode\":\"child\"},{\"name\":\"value\",\"valueCode\":\"294132008\"}]},{\"name\":\"property\",\"part\":[{\"name\":\"code\",\"valueCode\":\"child\"},{\"name\":\"value\",\"valueCode\":\"294131001\"}]},{\"name\":\"property\",\"part\":[{\"name\":\"code\",\"valueCode\":\"child\"},{\"name\":\"value\",\"valueCode\":\"294130000\"}]},{\"name\":\"property\",\"part\":[{\"name\":\"code\",\"valueCode\":\"child\"},{\"name\":\"value\",\"valueCode\":\"294433006\"}]},{\"name\":\"property\",\"part\":[{\"name\":\"code\",\"valueCode\":\"child\"},{\"name\":\"value\",\"valueCode\":\"294329000\"}]},{\"name\":\"property\",\"part\":[{\"name\":\"code\",\"valueCode\":\"child\"},{\"name\":\"value\",\"valueCode\":\"294564005\"}]},{\"name\":\"property\",\"part\":[{\"name\":\"code\",\"valueCode\":\"child\"},{\"name\":\"value\",\"valueCode\":\"294275005\"}]},{\"name\":\"property\",\"part\":[{\"name\":\"code\",\"valueCode\":\"child\"},{\"name\":\"value\",\"valueCode\":\"294157003\"}]},{\"name\":\"property\",\"part\":[{\"name\":\"code\",\"valueCode\":\"child\"},{\"name\":\"value\",\"valueCode\":\"294328008\"}]},{\"name\":\"property\",\"part\":[{\"name\":\"code\",\"valueCode\":\"child\"},{\"name\":\"value\",\"valueCode\":\"773424001\"}]},{\"name\":\"property\",\"part\":[{\"name\":\"code\",\"valueCode\":\"child\"},{\"name\":\"value\",\"valueCode\":\"295106007\"}]},{\"name\":\"property\",\"part\":[{\"name\":\"code\",\"valueCode\":\"child\"},{\"name\":\"value\",\"valueCode\":\"294851004\"}]},{\"name\":\"property\",\"part\":[{\"name\":\"code\",\"valueCode\":\"child\"},{\"name\":\"value\",\"valueCode\":\"767473007\"}]},{\"name\":\"property\",\"part\":[{\"name\":\"code\",\"valueCode\":\"child\"},{\"name\":\"value\",\"valueCode\":\"294285006\"}]},{\"name\":\"property\",\"part\":[{\"name\":\"code\",\"valueCode\":\"child\"},{\"name\":\"value\",\"valueCode\":\"422921000\"}]},{\"name\":\"property\",\"part\":[{\"name\":\"code\",\"valueCode\":\"child\"},{\"name\":\"value\",\"valueCode\":\"294206005\"}]},{\"name\":\"property\",\"part\":[{\"name\":\"code\",\"valueCode\":\"child\"},{\"name\":\"value\",\"valueCode\":\"402597007\"}]},{\"name\":\"property\",\"part\":[{\"name\":\"code\",\"valueCode\":\"child\"},{\"name\":\"value\",\"valueCode\":\"1082641000119102\"}]},{\"name\":\"property\",\"part\":[{\"name\":\"code\",\"valueCode\":\"child\"},{\"name\":\"value\",\"valueCode\":\"870747001\"}]},{\"name\":\"property\",\"part\":[{\"name\":\"code\",\"valueCode\":\"child\"},{\"name\":\"value\",\"valueCode\":\"295116004\"}]},{\"name\":\"property\",\"part\":[{\"name\":\"code\",\"valueCode\":\"child\"},{\"name\":\"value\",\"valueCode\":\"294204008\"}]},{\"name\":\"property\",\"part\":[{\"name\":\"code\",\"valueCode\":\"child\"},{\"name\":\"value\",\"valueCode\":\"294625003\"}]},{\"name\":\"property\",\"part\":[{\"name\":\"code\",\"valueCode\":\"child\"},{\"name\":\"value\",\"valueCode\":\"300911008\"}]},{\"name\":\"property\",\"part\":[{\"name\":\"code\",\"valueCode\":\"child\"},{\"name\":\"value\",\"valueCode\":\"294913003\"}]},{\"name\":\"property\",\"part\":[{\"name\":\"code\",\"valueCode\":\"child\"},{\"name\":\"value\",\"valueCode\":\"294203002\"}]},{\"name\":\"property\",\"part\":[{\"name\":\"code\",\"valueCode\":\"child\"},{\"name\":\"value\",\"valueCode\":\"865878007\"}]},{\"name\":\"property\",\"part\":[{\"name\":\"code\",\"valueCode\":\"child\"},{\"name\":\"value\",\"valueCode\":\"295114001\"}]},{\"name\":\"property\",\"part\":[{\"name\":\"code\",\"valueCode\":\"child\"},{\"name\":\"value\",\"valueCode\":\"427487000\"}]},{\"name\":\"property\",\"part\":[{\"name\":\"code\",\"valueCode\":\"child\"},{\"name\":\"value\",\"valueCode\":\"294177005\"}]},{\"name\":\"property\",\"part\":[{\"name\":\"code\",\"valueCode\":\"child\"},{\"name\":\"value\",\"valueCode\":\"295113007\"}]},{\"name\":\"property\",\"part\":[{\"name\":\"code\",\"valueCode\":\"child\"},{\"name\":\"value\",\"valueCode\":\"294739009\"}]},{\"name\":\"property\",\"part\":[{\"name\":\"code\",\"valueCode\":\"child\"},{\"name\":\"value\",\"valueCode\":\"294333007\"}]},{\"name\":\"property\",\"part\":[{\"name\":\"code\",\"valueCode\":\"child\"},{\"name\":\"value\",\"valueCode\":\"294200004\"}]},{\"name\":\"property\",\"part\":[{\"name\":\"code\",\"valueCode\":\"child\"},{\"name\":\"value\",\"valueCode\":\"294332002\"}]},{\"name\":\"property\",\"part\":[{\"name\":\"code\",\"valueCode\":\"child\"},{\"name\":\"value\",\"valueCode\":\"146291000146102\"}]},{\"name\":\"property\",\"part\":[{\"name\":\"code\",\"valueCode\":\"child\"},{\"name\":\"value\",\"valueCode\":\"294214004\"}]},{\"name\":\"property\",\"part\":[{\"name\":\"code\",\"valueCode\":\"child\"},{\"name\":\"value\",\"valueCode\":\"871511006\"}]},{\"name\":\"property\",\"part\":[{\"name\":\"code\",\"valueCode\":\"child\"},{\"name\":\"value\",\"valueCode\":\"294227000\"}]},{\"name\":\"property\",\"part\":[{\"name\":\"code\",\"valueCode\":\"child\"},{\"name\":\"value\",\"valueCode\":\"294330005\"}]},{\"name\":\"property\",\"part\":[{\"name\":\"code\",\"valueCode\":\"child\"},{\"name\":\"value\",\"valueCode\":\"294173009\"}]},{\"name\":\"property\",\"part\":[{\"name\":\"code\",\"valueCode\":\"child\"},{\"name\":\"value\",\"valueCode\":\"870712009\"}]},{\"name\":\"property\",\"part\":[{\"name\":\"code\",\"valueCode\":\"child\"},{\"name\":\"value\",\"valueCode\":\"830260004\"}]},{\"name\":\"property\",\"part\":[{\"name\":\"code\",\"valueCode\":\"child\"},{\"name\":\"value\",\"valueCode\":\"294290009\"}]},{\"name\":\"property\",\"part\":[{\"name\":\"code\",\"valueCode\":\"child\"},{\"name\":\"value\",\"valueCode\":\"439406006\"}]},{\"name\":\"property\",\"part\":[{\"name\":\"code\",\"valueCode\":\"child\"},{\"name\":\"value\",\"valueCode\":\"782591002\"}]},{\"name\":\"property\",\"part\":[{\"name\":\"code\",\"valueCode\":\"child\"},{\"name\":\"value\",\"valueCode\":\"390952000\"}]},{\"name\":\"property\",\"part\":[{\"name\":\"code\",\"valueCode\":\"child\"},{\"name\":\"value\",\"valueCode\":\"294354000\"}]},{\"name\":\"property\",\"part\":[{\"name\":\"code\",\"valueCode\":\"child\"},{\"name\":\"value\",\"valueCode\":\"860778003\"}]},{\"name\":\"property\",\"part\":[{\"name\":\"code\",\"valueCode\":\"child\"},{\"name\":\"value\",\"valueCode\":\"294118006\"}]},{\"name\":\"property\",\"part\":[{\"name\":\"code\",\"valueCode\":\"child\"},{\"name\":\"value\",\"valueCode\":\"425605001\"}]},{\"name\":\"property\",\"part\":[{\"name\":\"code\",\"valueCode\":\"child\"},{\"name\":\"value\",\"valueCode\":\"294182003\"}]},{\"name\":\"property\",\"part\":[{\"name\":\"code\",\"valueCode\":\"child\"},{\"name\":\"value\",\"valueCode\":\"860907004\"}]},{\"name\":\"property\",\"part\":[{\"name\":\"code\",\"valueCode\":\"child\"},{\"name\":\"value\",\"valueCode\":\"860765003\"}]},{\"name\":\"property\",\"part\":[{\"name\":\"code\",\"valueCode\":\"child\"},{\"name\":\"value\",\"valueCode\":\"782590001\"}]},{\"name\":\"property\",\"part\":[{\"name\":\"code\",\"valueCode\":\"child\"},{\"name\":\"value\",\"valueCode\":\"294462007\"}]},{\"name\":\"property\",\"part\":[{\"name\":\"code\",\"valueCode\":\"child\"},{\"name\":\"value\",\"valueCode\":\"294219009\"}]},{\"name\":\"property\",\"part\":[{\"name\":\"code\",\"valueCode\":\"child\"},{\"name\":\"value\",\"valueCode\":\"294180006\"}]},{\"name\":\"property\",\"part\":[{\"name\":\"code\",\"valueCode\":\"child\"},{\"name\":\"value\",\"valueCode\":\"788779003\"}]},{\"name\":\"property\",\"part\":[{\"name\":\"code\",\"valueCode\":\"child\"},{\"name\":\"value\",\"valueCode\":\"1119209001\"}]},{\"name\":\"property\",\"part\":[{\"name\":\"code\",\"valueCode\":\"child\"},{\"name\":\"value\",\"valueCode\":\"860777008\"}]},{\"name\":\"property\",\"part\":[{\"name\":\"code\",\"valueCode\":\"child\"},{\"name\":\"value\",\"valueCode\":\"294324005\"}]},{\"name\":\"property\",\"part\":[{\"name\":\"code\",\"valueCode\":\"child\"},{\"name\":\"value\",\"valueCode\":\"294101007\"}]},{\"name\":\"property\",\"part\":[{\"name\":\"code\",\"valueCode\":\"child\"},{\"name\":\"value\",\"valueCode\":\"294418003\"}]},{\"name\":\"property\",\"part\":[{\"name\":\"code\",\"valueCode\":\"child\"},{\"name\":\"value\",\"valueCode\":\"871503001\"}]},{\"name\":\"property\",\"part\":[{\"name\":\"code\",\"valueCode\":\"child\"},{\"name\":\"value\",\"valueCode\":\"294667007\"}]},{\"name\":\"property\",\"part\":[{\"name\":\"code\",\"valueCode\":\"child\"},{\"name\":\"value\",\"valueCode\":\"293637006\"}]},{\"name\":\"property\",\"part\":[{\"name\":\"code\",\"valueCode\":\"child\"},{\"name\":\"value\",\"valueCode\":\"294100008\"}]},{\"name\":\"property\",\"part\":[{\"name\":\"code\",\"valueCode\":\"child\"},{\"name\":\"value\",\"valueCode\":\"294114008\"}]},{\"name\":\"property\",\"part\":[{\"name\":\"code\",\"valueCode\":\"child\"},{\"name\":\"value\",\"valueCode\":\"294246004\"}]},{\"name\":\"property\",\"part\":[{\"name\":\"code\",\"valueCode\":\"child\"},{\"name\":\"value\",\"valueCode\":\"860773007\"}]},{\"name\":\"property\",\"part\":[{\"name\":\"code\",\"valueCode\":\"child\"},{\"name\":\"value\",\"valueCode\":\"294128002\"}]},{\"name\":\"property\",\"part\":[{\"name\":\"code\",\"valueCode\":\"child\"},{\"name\":\"value\",\"valueCode\":\"293788003\"}]},{\"name\":\"property\",\"part\":[{\"name\":\"code\",\"valueCode\":\"child\"},{\"name\":\"value\",\"valueCode\":\"870746005\"}]},{\"name\":\"property\",\"part\":[{\"name\":\"code\",\"valueCode\":\"child\"},{\"name\":\"value\",\"valueCode\":\"420140004\"}]},{\"name\":\"property\",\"part\":[{\"name\":\"code\",\"valueCode\":\"child\"},{\"name\":\"value\",\"valueCode\":\"294127007\"}]},{\"name\":\"property\",\"part\":[{\"name\":\"code\",\"valueCode\":\"child\"},{\"name\":\"value\",\"valueCode\":\"294416004\"}]},{\"name\":\"property\",\"part\":[{\"name\":\"code\",\"valueCode\":\"child\"},{\"name\":\"value\",\"valueCode\":\"151201000119107\"}]},{\"name\":\"property\",\"part\":[{\"name\":\"code\",\"valueCode\":\"child\"},{\"name\":\"value\",\"valueCode\":\"773487005\"}]},{\"name\":\"property\",\"part\":[{\"name\":\"code\",\"valueCode\":\"child\"},{\"name\":\"value\",\"valueCode\":\"294191004\"}]},{\"name\":\"property\",\"part\":[{\"name\":\"code\",\"valueCode\":\"child\"},{\"name\":\"value\",\"valueCode\":\"870727009\"}]},{\"name\":\"property\",\"part\":[{\"name\":\"code\",\"valueCode\":\"child\"},{\"name\":\"value\",\"valueCode\":\"293595009\"}]},{\"name\":\"property\",\"part\":[{\"name\":\"code\",\"valueCode\":\"child\"},{\"name\":\"value\",\"valueCode\":\"293635003\"}]},{\"name\":\"property\",\"part\":[{\"name\":\"code\",\"valueCode\":\"child\"},{\"name\":\"value\",\"valueCode\":\"294126003\"}]},{\"name\":\"property\",\"part\":[{\"name\":\"code\",\"valueCode\":\"child\"},{\"name\":\"value\",\"valueCode\":\"417930000\"}]},{\"name\":\"property\",\"part\":[{\"name\":\"code\",\"valueCode\":\"child\"},{\"name\":\"value\",\"valueCode\":\"705097000\"}]},{\"name\":\"property\",\"part\":[{\"name\":\"code\",\"valueCode\":\"child\"},{\"name\":\"value\",\"valueCode\":\"294109009\"}]},{\"name\":\"property\",\"part\":[{\"name\":\"code\",\"valueCode\":\"child\"},{\"name\":\"value\",\"valueCode\":\"294139004\"}]},{\"name\":\"property\",\"part\":[{\"name\":\"code\",\"valueCode\":\"child\"},{\"name\":\"value\",\"valueCode\":\"419412007\"}]},{\"name\":\"property\",\"part\":[{\"name\":\"code\",\"valueCode\":\"child\"},{\"name\":\"value\",\"valueCode\":\"294125004\"}]},{\"name\":\"property\",\"part\":[{\"name\":\"code\",\"valueCode\":\"child\"},{\"name\":\"value\",\"valueCode\":\"293636002\"}]},{\"name\":\"property\",\"part\":[{\"name\":\"code\",\"valueCode\":\"child\"},{\"name\":\"value\",\"valueCode\":\"293602008\"}]},{\"name\":\"property\",\"part\":[{\"name\":\"code\",\"valueCode\":\"child\"},{\"name\":\"value\",\"valueCode\":\"830171008\"}]},{\"name\":\"property\",\"part\":[{\"name\":\"code\",\"valueCode\":\"child\"},{\"name\":\"value\",\"valueCode\":\"294531005\"}]},{\"name\":\"property\",\"part\":[{\"name\":\"code\",\"valueCode\":\"child\"},{\"name\":\"value\",\"valueCode\":\"294099000\"}]},{\"name\":\"property\",\"part\":[{\"name\":\"code\",\"valueCode\":\"child\"},{\"name\":\"value\",\"valueCode\":\"294261003\"}]},{\"name\":\"property\",\"part\":[{\"name\":\"code\",\"valueCode\":\"child\"},{\"name\":\"value\",\"valueCode\":\"294138007\"}]},{\"name\":\"property\",\"part\":[{\"name\":\"code\",\"valueCode\":\"child\"},{\"name\":\"value\",\"valueCode\":\"860904006\"}]},{\"name\":\"property\",\"part\":[{\"name\":\"code\",\"valueCode\":\"child\"},{\"name\":\"value\",\"valueCode\":\"782587007\"}]},{\"name\":\"property\",\"part\":[{\"name\":\"code\",\"valueCode\":\"child\"},{\"name\":\"value\",\"valueCode\":\"860956003\"}]},{\"name\":\"property\",\"part\":[{\"name\":\"code\",\"valueCode\":\"child\"},{\"name\":\"value\",\"valueCode\":\"703934009\"}]},{\"name\":\"property\",\"part\":[{\"name\":\"code\",\"valueCode\":\"child\"},{\"name\":\"value\",\"valueCode\":\"294951003\"}]},{\"name\":\"property\",\"part\":[{\"name\":\"code\",\"valueCode\":\"child\"},{\"name\":\"value\",\"valueCode\":\"710158004\"}]},{\"name\":\"property\",\"part\":[{\"name\":\"code\",\"valueCode\":\"child\"},{\"name\":\"value\",\"valueCode\":\"860903000\"}]},{\"name\":\"property\",\"part\":[{\"name\":\"code\",\"valueCode\":\"child\"},{\"name\":\"value\",\"valueCode\":\"871500003\"}]},{\"name\":\"property\",\"part\":[{\"name\":\"code\",\"valueCode\":\"child\"},{\"name\":\"value\",\"valueCode\":\"294137002\"}]},{\"name\":\"property\",\"part\":[{\"name\":\"code\",\"valueCode\":\"child\"},{\"name\":\"value\",\"valueCode\":\"860901003\"}]},{\"name\":\"property\",\"part\":[{\"name\":\"code\",\"valueCode\":\"child\"},{\"name\":\"value\",\"valueCode\":\"294122001\"}]},{\"name\":\"property\",\"part\":[{\"name\":\"code\",\"valueCode\":\"child\"},{\"name\":\"value\",\"valueCode\":\"870714005\"}]},{\"name\":\"property\",\"part\":[{\"name\":\"code\",\"valueCode\":\"child\"},{\"name\":\"value\",\"valueCode\":\"767099007\"}]},{\"name\":\"property\",\"part\":[{\"name\":\"code\",\"valueCode\":\"child\"},{\"name\":\"value\",\"valueCode\":\"295059006\"}]},{\"name\":\"property\",\"part\":[{\"name\":\"code\",\"valueCode\":\"child\"},{\"name\":\"value\",\"valueCode\":\"294136006\"}]},{\"name\":\"property\",\"part\":[{\"name\":\"code\",\"valueCode\":\"child\"},{\"name\":\"value\",\"valueCode\":\"860927003\"}]},{\"name\":\"property\",\"part\":[{\"name\":\"code\",\"valueCode\":\"child\"},{\"name\":\"value\",\"valueCode\":\"91939003\"}]},{\"name\":\"property\",\"part\":[{\"name\":\"code\",\"valueCode\":\"child\"},{\"name\":\"value\",\"valueCode\":\"300910009\"}]},{\"name\":\"property\",\"part\":[{\"name\":\"code\",\"valueCode\":\"child\"},{\"name\":\"value\",\"valueCode\":\"871508005\"}]},{\"name\":\"property\",\"part\":[{\"name\":\"code\",\"valueCode\":\"child\"},{\"name\":\"value\",\"valueCode\":\"294121008\"}]},{\"name\":\"property\",\"part\":[{\"name\":\"code\",\"valueCode\":\"child\"},{\"name\":\"value\",\"valueCode\":\"871509002\"}]},{\"name\":\"property\",\"part\":[{\"name\":\"code\",\"valueCode\":\"child\"},{\"name\":\"value\",\"valueCode\":\"717234006\"}]},{\"name\":\"property\",\"part\":[{\"name\":\"code\",\"valueCode\":\"child\"},{\"name\":\"value\",\"valueCode\":\"767116002\"}]},{\"name\":\"property\",\"part\":[{\"name\":\"code\",\"valueCode\":\"child\"},{\"name\":\"value\",\"valueCode\":\"414285001\"}]},{\"name\":\"property\",\"part\":[{\"name\":\"code\",\"valueCode\":\"child\"},{\"name\":\"value\",\"valueCode\":\"1155942004\"}]},{\"name\":\"property\",\"part\":[{\"name\":\"code\",\"valueCode\":\"child\"},{\"name\":\"value\",\"valueCode\":\"416098002\"}]},{\"name\":\"property\",\"part\":[{\"name\":\"code\",\"valueCode\":\"child\"},{\"name\":\"value\",\"valueCode\":\"91936005\"}]},{\"name\":\"property\",\"part\":[{\"name\":\"code\",\"valueCode\":\"sufficientlyDefined\"},{\"name\":\"valueBoolean\",\"valueBoolean\":true}]},{\"name\":\"property\",\"part\":[{\"name\":\"code\",\"valueCode\":\"effectiveTime\"},{\"name\":\"valueString\",\"valueString\":\"20060131\"}]},{\"name\":\"property\",\"part\":[{\"name\":\"code\",\"valueCode\":\"moduleId\"},{\"name\":\"value\",\"valueCode\":\"900000000000207008\"}]},{\"name\":\"designation\",\"part\":[{\"name\":\"language\",\"valueCode\":\"en-x-sctlang-90000000-00005080-04\"},{\"name\":\"use\",\"valueCoding\":{\"system\":\"http://terminology.hl7.org/CodeSystem/hl7TermMaintInfra\",\"code\":\"preferredForLanguage\",\"display\":\"Preferred For Language\"}},{\"name\":\"value\",\"valueString\":\"Allergy to substance\"}]},{\"name\":\"designation\",\"part\":[{\"name\":\"language\",\"valueCode\":\"en-x-sctlang-90000000-00005090-07\"},{\"name\":\"use\",\"valueCoding\":{\"system\":\"http://terminology.hl7.org/CodeSystem/hl7TermMaintInfra\",\"code\":\"preferredForLanguage\",\"display\":\"Preferred For Language\"}},{\"name\":\"value\",\"valueString\":\"Allergy to substance\"}]},{\"name\":\"designation\",\"part\":[{\"name\":\"language\",\"valueCode\":\"en\"},{\"name\":\"use\",\"valueCoding\":{\"system\":\"http://snomed.info/sct\",\"code\":\"900000000000003001\",\"display\":\"Fully specified name\"}},{\"name\":\"value\",\"valueString\":\"Allergy to substance (finding)\"}]},{\"name\":\"designation\",\"part\":[{\"name\":\"language\",\"valueCode\":\"en\"},{\"name\":\"use\",\"valueCoding\":{\"system\":\"http://terminology.hl7.org/CodeSystem/designation-usage\",\"code\":\"display\"}},{\"name\":\"value\",\"valueString\":\"allergie voor substantie\"}]},{\"name\":\"designation\",\"part\":[{\"name\":\"language\",\"valueCode\":\"nl-x-sctlang-31000146-106\"},{\"name\":\"use\",\"valueCoding\":{\"system\":\"http://terminology.hl7.org/CodeSystem/hl7TermMaintInfra\",\"code\":\"preferredForLanguage\",\"display\":\"Preferred For Language\"}},{\"name\":\"value\",\"valueString\":\"allergie voor substantie\"}]},{\"name\":\"designation\",\"part\":[{\"name\":\"language\",\"valueCode\":\"nl\"},{\"name\":\"use\",\"valueCoding\":{\"system\":\"http://snomed.info/sct\",\"code\":\"900000000000003001\",\"display\":\"Fully specified name\"}},{\"name\":\"value\",\"valueString\":\"allergie voor substantie (bevinding)\"}]}]},\"response\":{\"status\":\"200\"}},{\"resource\":{\"resourceType\":\"OperationOutcome\",\"issue\":[{\"severity\":\"error\",\"code\":\"not-found\",\"diagnostics\":\"[5d267fba-6bed-48fc-84b0-1773f6e9fdd4]: Could not find code system http://loinc.org (2.71).\"}]},\"response\":{\"status\":\"404\"}},{\"resource\":{\"resourceType\":\"OperationOutcome\",\"issue\":[{\"severity\":\"error\",\"code\":\"not-found\",\"diagnostics\":\"[59a893d7-2039-46d9-88fa-69de9546d669]: Could not find code system http://loinc.org (2.71).\"}]},\"response\":{\"status\":\"404\"}},{\"resource\":{\"resourceType\":\"OperationOutcome\",\"issue\":[{\"severity\":\"error\",\"code\":\"not-found\",\"diagnostics\":\"[320410d6-d59d-46b2-8ee6-a093e0b5fdd6]: Could not find code system http://loinc.org (2.71).\"}]},\"response\":{\"status\":\"404\"}},{\"resource\":{\"resourceType\":\"OperationOutcome\",\"issue\":[{\"severity\":\"error\",\"code\":\"not-found\",\"diagnostics\":\"[b9ec15f3-fe5b-4602-8258-eca9fc3cff5f]: Could not find code system http://loinc.org (2.71).\"}]},\"response\":{\"status\":\"404\"}},{\"resource\":{\"resourceType\":\"OperationOutcome\",\"issue\":[{\"severity\":\"error\",\"code\":\"not-found\",\"diagnostics\":\"[5a6d1b2b-fdd2-45e1-b418-1cfd4c884506]: Could not find code system http://loinc.org (2.71).\"}]},\"response\":{\"status\":\"404\"}},{\"resource\":{\"resourceType\":\"OperationOutcome\",\"issue\":[{\"severity\":\"error\",\"code\":\"not-found\",\"diagnostics\":\"[e8ba9483-0f84-4c1e-affb-a56f28ddaa01]: Could not find code system http://loinc.org (2.71).\"}]},\"response\":{\"status\":\"404\"}}]}\n"
     ]
    }
   ],
   "source": [
    "url = \"https://terminologieserver.nl/fhir\"\n",
    "\n",
    "payloadstring = json.dumps(payload)\n",
    "\n",
    "headers = { 'Authorization': 'Bearer ' + access_token,\n",
    "          'Content-Type': 'application/fhir+json'}\n",
    "\n",
    "response = requests.request(\"POST\", url, headers=headers, data=payloadstring)\n",
    "\n",
    "print(response.text)"
   ]
  },
  {
   "cell_type": "markdown",
   "id": "featured-ghost",
   "metadata": {},
   "source": [
    "Gebruik response om designations op te halen en zet die in de spreadsheet terug"
   ]
  },
  {
   "cell_type": "code",
   "execution_count": 40,
   "id": "immediate-allen",
   "metadata": {},
   "outputs": [],
   "source": [
    "lookups = response.json()"
   ]
  },
  {
   "cell_type": "code",
   "execution_count": 49,
   "id": "wooden-deputy",
   "metadata": {},
   "outputs": [
    {
     "name": "stdout",
     "output_type": "stream",
     "text": [
      "419511003 , neiging tot ongewenste reactie op medicatie en/of drug\n",
      "418471000 , neiging tot ongewenste reactie op voedsel\n",
      "426232007 , omgevingsgerelateerde allergie\n",
      "426232007 , omgevingsgerelateerde allergie\n",
      "426232007 , omgevingsgerelateerde allergie\n",
      "419199007 , allergie voor substantie\n",
      "419511003 , neiging tot ongewenste reactie op medicatie en/of drug\n",
      "419511003 , neiging tot ongewenste reactie op medicatie en/of drug\n",
      "789-8 , ? niet gevonden\n",
      "2951-2 , ? niet gevonden\n",
      "2951-2 , ? niet gevonden\n",
      "2951-2 , ? niet gevonden\n",
      "2951-2 , ? niet gevonden\n",
      "2951-2 , ? niet gevonden\n",
      "2951-2 , ? niet gevonden\n",
      "2951-2 , ? niet gevonden\n",
      "2951-2 , ? niet gevonden\n",
      "2951-2 , ? niet gevonden\n",
      "2951-2 , ? niet gevonden\n",
      "2951-2 , ? niet gevonden\n",
      "2951-2 , ? niet gevonden\n",
      "2951-2 , ? niet gevonden\n",
      "2951-2 , ? niet gevonden\n",
      "2951-2 , ? niet gevonden\n",
      "26881-3 , ? niet gevonden\n",
      "74103-3 , ? niet gevonden\n",
      "62357-9 , ? niet gevonden\n",
      "32637-1 , ? niet gevonden\n"
     ]
    }
   ],
   "source": [
    "rownr = 0\n",
    "for row in df.iterrows():\n",
    "    #row[1] is a Panda Series, convert to a list array\n",
    "    _cells = row[1].to_list()\n",
    "    _code = _cells[1]\n",
    "    _system = _cells[2]\n",
    "    if (lookups[\"entry\"][rownr][\"resource\"][\"resourceType\"] == \"Parameters\"):\n",
    "        entryparams = lookups[\"entry\"][rownr][\"resource\"][\"parameter\"]\n",
    "        display = [x for x in entryparams if x[\"name\"] == \"display\"]\n",
    "        print(_code, \",\", display[0][\"valueString\"])\n",
    "   #     designations = [x for x in entryparams if x[\"name\"] == \"designation\" and x[\"part\"][0][\"valueCode\"] == \"nl\"]\n",
    "   #     if (designations):\n",
    "   #         print(rownr, _code, designations[0][\"part\"][2])\n",
    "   #     else:\n",
    "   #         print(rownr, _code, \"geen nl designations\")\n",
    "    else:\n",
    "        print(_code, \",\", \"? niet gevonden\")\n",
    "    rownr = rownr + 1"
   ]
  }
 ],
 "metadata": {
  "kernelspec": {
   "display_name": "Python 3",
   "language": "python",
   "name": "python3"
  },
  "language_info": {
   "codemirror_mode": {
    "name": "ipython",
    "version": 3
   },
   "file_extension": ".py",
   "mimetype": "text/x-python",
   "name": "python",
   "nbconvert_exporter": "python",
   "pygments_lexer": "ipython3",
   "version": "3.8.8"
  }
 },
 "nbformat": 4,
 "nbformat_minor": 5
}
