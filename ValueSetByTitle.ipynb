{
  "nbformat": 4,
  "nbformat_minor": 5,
  "metadata": {
    "kernelspec": {
      "display_name": "Python 3",
      "language": "python",
      "name": "python3"
    },
    "language_info": {
      "codemirror_mode": {
        "name": "ipython",
        "version": 3
      },
      "file_extension": ".py",
      "mimetype": "text/x-python",
      "name": "python",
      "nbconvert_exporter": "python",
      "pygments_lexer": "ipython3",
      "version": "3.8.8"
    },
    "colab": {
      "name": "ValueSetByTitle.ipynb",
      "provenance": []
    }
  },
  "cells": [
    {
      "cell_type": "markdown",
      "metadata": {
        "id": "lpL6w770Sb0y"
      },
      "source": [
        "# Search a ValueSet by (part of) the Name of the ValueSet\n",
        "Load used libraries\n"
      ],
      "id": "lpL6w770Sb0y"
    },
    {
      "cell_type": "code",
      "metadata": {
        "id": "violent-extra"
      },
      "source": [
        "!pip install xlsxwriter\n",
        "import getpass\n",
        "import requests\n",
        "import pandas as pd\n",
        "import xlsxwriter"
      ],
      "id": "violent-extra",
      "execution_count": null,
      "outputs": []
    },
    {
      "cell_type": "markdown",
      "metadata": {
        "id": "VbIdisZRSpTz"
      },
      "source": [
        "Get credentials for the National Terminology Server"
      ],
      "id": "VbIdisZRSpTz"
    },
    {
      "cell_type": "code",
      "metadata": {
        "id": "disabled-belize"
      },
      "source": [
        "username=input(\"NTS username: \")\n",
        "password = getpass.getpass(\"NTS password: \")"
      ],
      "id": "disabled-belize",
      "execution_count": null,
      "outputs": []
    },
    {
      "cell_type": "markdown",
      "metadata": {
        "id": "Y4qB44v2S0Dz"
      },
      "source": [
        "Get an access token using the credentials"
      ],
      "id": "Y4qB44v2S0Dz"
    },
    {
      "cell_type": "code",
      "metadata": {
        "id": "fitted-arrow"
      },
      "source": [
        "url = \"https://terminologieserver.nl/auth/realms/nictiz/protocol/openid-connect/token\"\n",
        "\n",
        "payload='username='+username+'&password='+password+'&grant_type=password&client_id=cli_client'\n",
        "headers = { 'Content-Type': 'application/x-www-form-urlencoded' }\n",
        "\n",
        "response = requests.request(\"POST\", url, headers=headers, data=payload)\n",
        "\n",
        "token = response.json()\n",
        "access_token = token[\"access_token\"]\n",
        "\n",
        "#print(access_token)"
      ],
      "id": "fitted-arrow",
      "execution_count": null,
      "outputs": []
    },
    {
      "cell_type": "markdown",
      "metadata": {
        "id": "XKorwYf2S6_8"
      },
      "source": [
        "Search ValueSets with title TNMVersieCodeLijst"
      ],
      "id": "XKorwYf2S6_8"
    },
    {
      "cell_type": "code",
      "metadata": {
        "id": "abstract-guide"
      },
      "source": [
        "url = \"https://terminologieserver.nl/fhir/ValueSet/?title=tnmversiecodelijst\"\n",
        "\n",
        "payload={}\n",
        "headers = { 'Authorization': 'Bearer ' + access_token }\n",
        "\n",
        "response = requests.request(\"GET\", url, headers=headers, data=payload)\n",
        "\n",
        "print(response.text)"
      ],
      "id": "abstract-guide",
      "execution_count": null,
      "outputs": []
    },
    {
      "cell_type": "markdown",
      "metadata": {
        "id": "7AZSV6yiTj4M"
      },
      "source": [
        "Parse received JSON and show id of first hit"
      ],
      "id": "7AZSV6yiTj4M"
    },
    {
      "cell_type": "code",
      "metadata": {
        "id": "handmade-parade"
      },
      "source": [
        "data = response.json()\n",
        "\n",
        "print (data[\"entry\"][0][\"resource\"][\"id\"])"
      ],
      "id": "handmade-parade",
      "execution_count": null,
      "outputs": []
    },
    {
      "cell_type": "markdown",
      "metadata": {
        "id": "xGi-xmROTpJ1"
      },
      "source": [
        "Get the ValueSet using the id of the first hit"
      ],
      "id": "xGi-xmROTpJ1"
    },
    {
      "cell_type": "code",
      "metadata": {
        "id": "elect-scientist"
      },
      "source": [
        "url = \"https://terminologieserver.nl/fhir/ValueSet/\" + data[\"entry\"][0][\"resource\"][\"id\"]\n",
        "\n",
        "payload={}\n",
        "headers = { 'Authorization': 'Bearer ' + access_token }\n",
        "\n",
        "response = requests.request(\"GET\", url, headers=headers, data=payload)\n",
        "\n",
        "print(response.text)"
      ],
      "id": "elect-scientist",
      "execution_count": null,
      "outputs": []
    },
    {
      "cell_type": "markdown",
      "metadata": {
        "id": "E7M26IONTwkc"
      },
      "source": [
        "Parse the JSON and build an array and show the concepts in there"
      ],
      "id": "E7M26IONTwkc"
    },
    {
      "cell_type": "code",
      "metadata": {
        "id": "developmental-interference"
      },
      "source": [
        "data = response.json()\n",
        "\n",
        "concepts = []\n",
        "for include in data[\"compose\"][\"include\"]:\n",
        "    for concept in include[\"concept\"]:\n",
        "        concept[\"system\"] = include[\"system\"]\n",
        "        concepts.append(concept)\n",
        "        print(concept)"
      ],
      "id": "developmental-interference",
      "execution_count": null,
      "outputs": []
    },
    {
      "cell_type": "markdown",
      "metadata": {
        "id": "poUpeXA-T2r-"
      },
      "source": [
        "Convert the array to a DataFrame and display first 20\n",
        "\n"
      ],
      "id": "poUpeXA-T2r-"
    },
    {
      "cell_type": "code",
      "metadata": {
        "scrolled": false,
        "id": "significant-muscle"
      },
      "source": [
        "df = pd.DataFrame(concepts)\n",
        "df = df[['system','code', 'display']]\n",
        "print(\"Concepts in Valueset:\", df.size)\n",
        "df.head(20)"
      ],
      "id": "significant-muscle",
      "execution_count": null,
      "outputs": []
    },
    {
      "cell_type": "markdown",
      "metadata": {
        "id": "xbWi_1-hUBWA"
      },
      "source": [
        "Save the ValueSet concepts to a spreadsheet"
      ],
      "id": "xbWi_1-hUBWA"
    },
    {
      "cell_type": "code",
      "metadata": {
        "id": "broke-treasure"
      },
      "source": [
        "writer = pd.ExcelWriter('valueset.xlsx')\n",
        "df.to_excel(writer)\n",
        "writer.save()"
      ],
      "id": "broke-treasure",
      "execution_count": null,
      "outputs": []
    }
  ]
}