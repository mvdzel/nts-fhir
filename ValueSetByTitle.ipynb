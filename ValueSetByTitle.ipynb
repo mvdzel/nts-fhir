{
 "cells": [
  {
   "cell_type": "code",
   "execution_count": null,
   "id": "violent-extra",
   "metadata": {},
   "outputs": [],
   "source": [
    "import getpass\n",
    "import requests\n",
    "import pandas as pd\n",
    "import xlsxwriter"
   ]
  },
  {
   "cell_type": "code",
   "execution_count": null,
   "id": "disabled-belize",
   "metadata": {},
   "outputs": [],
   "source": [
    "username=input(\"NTS username: \")\n",
    "password = getpass.getpass(\"NTS password: \")"
   ]
  },
  {
   "cell_type": "code",
   "execution_count": null,
   "id": "fitted-arrow",
   "metadata": {},
   "outputs": [],
   "source": [
    "url = \"https://terminologieserver.nl/auth/realms/nictiz/protocol/openid-connect/token\"\n",
    "\n",
    "payload='username='+username+'&password='+password+'&grant_type=password&client_id=cli_client'\n",
    "headers = { 'Content-Type': 'application/x-www-form-urlencoded' }\n",
    "\n",
    "response = requests.request(\"POST\", url, headers=headers, data=payload)\n",
    "\n",
    "token = response.json()\n",
    "access_token = token[\"access_token\"]\n",
    "\n",
    "#print(access_token)"
   ]
  },
  {
   "cell_type": "code",
   "execution_count": null,
   "id": "abstract-guide",
   "metadata": {},
   "outputs": [],
   "source": [
    "url = \"https://terminologieserver.nl/fhir/ValueSet/?title=tnmversiecodelijst\"\n",
    "\n",
    "payload={}\n",
    "headers = { 'Authorization': 'Bearer ' + access_token }\n",
    "\n",
    "response = requests.request(\"GET\", url, headers=headers, data=payload)\n",
    "\n",
    "print(response.text)"
   ]
  },
  {
   "cell_type": "code",
   "execution_count": null,
   "id": "handmade-parade",
   "metadata": {},
   "outputs": [],
   "source": [
    "data = response.json()\n",
    "\n",
    "print (data[\"entry\"][0][\"resource\"][\"id\"])"
   ]
  },
  {
   "cell_type": "code",
   "execution_count": null,
   "id": "elect-scientist",
   "metadata": {},
   "outputs": [],
   "source": [
    "url = \"https://terminologieserver.nl/fhir/ValueSet/\" + data[\"entry\"][0][\"resource\"][\"id\"]\n",
    "\n",
    "payload={}\n",
    "headers = { 'Authorization': 'Bearer ' + access_token }\n",
    "\n",
    "response = requests.request(\"GET\", url, headers=headers, data=payload)\n",
    "\n",
    "print(response.text)"
   ]
  },
  {
   "cell_type": "code",
   "execution_count": null,
   "id": "developmental-interference",
   "metadata": {},
   "outputs": [],
   "source": [
    "data = response.json()\n",
    "\n",
    "concepts = []\n",
    "for include in data[\"compose\"][\"include\"]:\n",
    "    for concept in include[\"concept\"]:\n",
    "        concept[\"system\"] = include[\"system\"]\n",
    "        concepts.append(concept)\n",
    "        print(concept)"
   ]
  },
  {
   "cell_type": "code",
   "execution_count": null,
   "id": "significant-muscle",
   "metadata": {
    "scrolled": false
   },
   "outputs": [],
   "source": [
    "df = pd.DataFrame(concepts)\n",
    "df = df[['system','code', 'display']]\n",
    "print(\"Concepts in Valueset:\", df.size)\n",
    "df.head(20)"
   ]
  },
  {
   "cell_type": "code",
   "execution_count": null,
   "id": "broke-treasure",
   "metadata": {},
   "outputs": [],
   "source": [
    "writer = pd.ExcelWriter('valueset.xlsx')\n",
    "df.to_excel(writer)\n",
    "writer.save()"
   ]
  }
 ],
 "metadata": {
  "kernelspec": {
   "display_name": "Python 3",
   "language": "python",
   "name": "python3"
  },
  "language_info": {
   "codemirror_mode": {
    "name": "ipython",
    "version": 3
   },
   "file_extension": ".py",
   "mimetype": "text/x-python",
   "name": "python",
   "nbconvert_exporter": "python",
   "pygments_lexer": "ipython3",
   "version": "3.8.8"
  }
 },
 "nbformat": 4,
 "nbformat_minor": 5
}
