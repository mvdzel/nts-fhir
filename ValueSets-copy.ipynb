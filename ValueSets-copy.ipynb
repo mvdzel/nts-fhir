{
 "cells": [
  {
   "cell_type": "code",
   "execution_count": null,
   "id": "insured-cross",
   "metadata": {},
   "outputs": [],
   "source": [
    "import getpass\n",
    "import pandas as pd\n",
    "import requests\n",
    "import json"
   ]
  },
  {
   "cell_type": "code",
   "execution_count": null,
   "id": "dutch-delight",
   "metadata": {},
   "outputs": [],
   "source": [
    "username=input(\"NTS username: \")\n",
    "password = getpass.getpass(\"NTS password: \")"
   ]
  },
  {
   "cell_type": "markdown",
   "id": "complimentary-attempt",
   "metadata": {},
   "source": [
    "# Haal token"
   ]
  },
  {
   "cell_type": "code",
   "execution_count": null,
   "id": "progressive-excitement",
   "metadata": {},
   "outputs": [],
   "source": [
    "url = \"https://terminologieserver.nl/auth/realms/nictiz/protocol/openid-connect/token\"\n",
    "\n",
    "payload='username='+username+'&password='+password+'&grant_type=password&client_id=cli_client'\n",
    "headers = { 'Content-Type': 'application/x-www-form-urlencoded' }\n",
    "\n",
    "response = requests.request(\"POST\", url, headers=headers, data=payload)\n",
    "\n",
    "token = response.json()\n",
    "access_token = token[\"access_token\"]\n",
    "\n",
    "#print(access_token)"
   ]
  },
  {
   "cell_type": "markdown",
   "id": "protecting-borough",
   "metadata": {},
   "source": [
    "# Haal lijst van ValueSets op (op basis van probleem in titel)"
   ]
  },
  {
   "cell_type": "code",
   "execution_count": null,
   "id": "burning-munich",
   "metadata": {},
   "outputs": [],
   "source": [
    "#url = \"https://terminologieserver.nl/fhir/ValueSet?_count=40&name=Probleem\"\n",
    "url = \"https://terminologieserver.nl/fhir/ValueSet?_count=4\"\n",
    "\n",
    "payload={}\n",
    "headers = { 'Authorization': 'Bearer ' + access_token }\n",
    "\n",
    "response = requests.request(\"GET\", url, headers=headers, data=payload)\n",
    "\n",
    "#print(response.text)\n",
    "#print(json.dumps(response.json(), indent=2))"
   ]
  },
  {
   "cell_type": "code",
   "execution_count": null,
   "id": "developmental-interference",
   "metadata": {},
   "outputs": [],
   "source": [
    "data = response.json()\n",
    "\n",
    "entries = []\n",
    "for entry in data[\"entry\"]:\n",
    "    entries.append (entry[\"resource\"]);"
   ]
  },
  {
   "cell_type": "code",
   "execution_count": null,
   "id": "facial-denver",
   "metadata": {},
   "outputs": [],
   "source": [
    "df = pd.DataFrame(entries)"
   ]
  },
  {
   "cell_type": "code",
   "execution_count": null,
   "id": "significant-muscle",
   "metadata": {},
   "outputs": [],
   "source": [
    "df = df[['id','name']]\n",
    "df['url'] = 'https://terminologieserver.nl/fhir/ValueSet/' + df['id']\n",
    "df"
   ]
  },
  {
   "cell_type": "code",
   "execution_count": null,
   "id": "nearby-version",
   "metadata": {},
   "outputs": [],
   "source": [
    "def putDhealthLab(vs, idx):\n",
    "    print(idx, \" dHealth PUT \", vs['id'], vs[\"name\"], len(vs[\"compose\"][\"include\"]))\n",
    "    url = \"https://dhealth.usor.nl:4003/hapi-fhir-jpaserver/fhir/ValueSet/\" + vs['id']\n",
    "    payload=json.dumps(vs, indent=2)\n",
    "    headers = { 'Content-Type': 'application/json' }\n",
    "    response = requests.request(\"PUT\", url, headers=headers, data=payload)\n",
    "    print(idx, \"result: \", response.status_code)\n",
    "    \n",
    "def putSnowstorm(vs, idx):\n",
    "    print(idx, \"Snowstorm PUT \", vs['id'], vs[\"name\"])\n",
    "    url = \"https://snowstorm.web.rug.nl/fhir/ValueSet/\" + vs['id']\n",
    "    payload=json.dumps(vs, indent=2)\n",
    "    headers = { 'Content-Type': 'application/json' }\n",
    "    response = requests.request(\"PUT\", url, headers=headers, data=payload)\n",
    "    print(idx, \"result: \", response.status_code)\n",
    "    "
   ]
  },
  {
   "cell_type": "markdown",
   "id": "constitutional-shell",
   "metadata": {},
   "source": [
    "# Per ValueSet details ophalen en dan omzetten ontoserver R4 filters naar snowstorm STU3 filters"
   ]
  },
  {
   "cell_type": "code",
   "execution_count": null,
   "id": "chief-relay",
   "metadata": {
    "scrolled": true
   },
   "outputs": [],
   "source": [
    "# ProbleemAnatomischeLocatieCodelijst heeft een filter!\n",
    "\n",
    "# TODO: Haal ook $expand vs op en put die in de dHealthLab versie\n",
    "# Gebruik een filter om $expand,$lookup queries door te sturen naar snowstorm vanuit dHealthLab endpoint??\n",
    "\n",
    "def doValueSet(vs, idx):\n",
    "    # Only 2017 version\n",
    "    if(vs[\"version\"] == \"2017-12-31T00:00:00\"):\n",
    "        if (\"filter\" in vs[\"compose\"][\"include\"][0]):\n",
    "            # adjust filter and copy to dHealth Snowstorm\n",
    "            for filter in vs[\"compose\"][\"include\"][0][\"filter\"]:\n",
    "                # [{'property': 'concept', 'op': 'descendent-of', 'value': '442083009'}]\n",
    "                # [{'property': 'concept', 'op': '=', 'value': '<<442083009'}]\n",
    "                if (filter[\"op\"] == \"descendent-of\"):\n",
    "                    filter[\"op\"] = \"=\"\n",
    "                    filter[\"value\"] = \"<<\" + filter[\"value\"]\n",
    "            #print(vs[\"compose\"][\"include\"][0][\"filter\"])\n",
    "            #print(json.dumps(vs, indent=2))\n",
    "            putSnowstorm(vs, idx)\n",
    "        else:\n",
    "            # copy to dHealth\n",
    "            putDhealthLab(vs, idx)\n",
    "\n",
    "# Loop over alle 2017 ValueSets en toon filter als die er is\n",
    "\n",
    "idx = 0\n",
    "for entry in data[\"entry\"]:\n",
    "    url = entry['fullUrl']\n",
    "    payload={}\n",
    "    headers = { 'Authorization': 'Bearer ' + access_token }\n",
    "    response = requests.request(\"GET\", url, headers=headers, data=payload)\n",
    "    doValueSet (response.json(), idx)\n",
    "    idx = idx + 1"
   ]
  },
  {
   "cell_type": "code",
   "execution_count": null,
   "id": "round-despite",
   "metadata": {},
   "outputs": [],
   "source": []
  }
 ],
 "metadata": {
  "kernelspec": {
   "display_name": "Python 3",
   "language": "python",
   "name": "python3"
  },
  "language_info": {
   "codemirror_mode": {
    "name": "ipython",
    "version": 3
   },
   "file_extension": ".py",
   "mimetype": "text/x-python",
   "name": "python",
   "nbconvert_exporter": "python",
   "pygments_lexer": "ipython3",
   "version": "3.8.8"
  }
 },
 "nbformat": 4,
 "nbformat_minor": 5
}